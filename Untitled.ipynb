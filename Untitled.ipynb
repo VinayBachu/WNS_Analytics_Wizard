{
 "cells": [
  {
   "cell_type": "code",
   "execution_count": 1,
   "metadata": {
    "collapsed": true
   },
   "outputs": [],
   "source": [
    "import pandas as pd\n",
    "import numpy as np\n",
    "import seaborn as sns\n",
    "from matplotlib import pyplot as plt\n",
    "%matplotlib inline\n"
   ]
  },
  {
   "cell_type": "code",
   "execution_count": 2,
   "metadata": {
    "collapsed": true
   },
   "outputs": [],
   "source": [
    "train_data=pd.read_csv('C:/Users/bkumar66/Desktop/WNS_Analytics_Wizard/Solution/train.csv')\n",
    "test_data=pd.read_csv('C:/Users/bkumar66/Desktop/WNS_Analytics_Wizard/Solution/test.csv')\n",
    "view_log=pd.read_csv('C:/Users/bkumar66/Desktop/WNS_Analytics_Wizard/Solution/view_log.csv')\n",
    "item_data=pd.read_csv('C:/Users/bkumar66/Desktop/WNS_Analytics_Wizard/Solution/item_data.csv')"
   ]
  },
  {
   "cell_type": "code",
   "execution_count": 29,
   "metadata": {},
   "outputs": [
    {
     "name": "stdout",
     "output_type": "stream",
     "text": [
      "(237609, 7)\n"
     ]
    },
    {
     "data": {
      "text/html": [
       "<div>\n",
       "<style>\n",
       "    .dataframe thead tr:only-child th {\n",
       "        text-align: right;\n",
       "    }\n",
       "\n",
       "    .dataframe thead th {\n",
       "        text-align: left;\n",
       "    }\n",
       "\n",
       "    .dataframe tbody tr th {\n",
       "        vertical-align: top;\n",
       "    }\n",
       "</style>\n",
       "<table border=\"1\" class=\"dataframe\">\n",
       "  <thead>\n",
       "    <tr style=\"text-align: right;\">\n",
       "      <th></th>\n",
       "      <th>impression_id</th>\n",
       "      <th>impression_time</th>\n",
       "      <th>user_id</th>\n",
       "      <th>app_code</th>\n",
       "      <th>os_version</th>\n",
       "      <th>is_4G</th>\n",
       "      <th>is_click</th>\n",
       "    </tr>\n",
       "  </thead>\n",
       "  <tbody>\n",
       "    <tr>\n",
       "      <th>0</th>\n",
       "      <td>c4ca4238a0b923820dcc509a6f75849b</td>\n",
       "      <td>2018-11-15 00:00:00</td>\n",
       "      <td>87862</td>\n",
       "      <td>422</td>\n",
       "      <td>old</td>\n",
       "      <td>0</td>\n",
       "      <td>0</td>\n",
       "    </tr>\n",
       "    <tr>\n",
       "      <th>1</th>\n",
       "      <td>45c48cce2e2d7fbdea1afc51c7c6ad26</td>\n",
       "      <td>2018-11-15 00:01:00</td>\n",
       "      <td>63410</td>\n",
       "      <td>467</td>\n",
       "      <td>latest</td>\n",
       "      <td>1</td>\n",
       "      <td>1</td>\n",
       "    </tr>\n",
       "    <tr>\n",
       "      <th>2</th>\n",
       "      <td>70efdf2ec9b086079795c442636b55fb</td>\n",
       "      <td>2018-11-15 00:02:00</td>\n",
       "      <td>71748</td>\n",
       "      <td>259</td>\n",
       "      <td>intermediate</td>\n",
       "      <td>1</td>\n",
       "      <td>0</td>\n",
       "    </tr>\n",
       "    <tr>\n",
       "      <th>3</th>\n",
       "      <td>8e296a067a37563370ded05f5a3bf3ec</td>\n",
       "      <td>2018-11-15 00:02:00</td>\n",
       "      <td>69209</td>\n",
       "      <td>244</td>\n",
       "      <td>latest</td>\n",
       "      <td>1</td>\n",
       "      <td>0</td>\n",
       "    </tr>\n",
       "    <tr>\n",
       "      <th>4</th>\n",
       "      <td>182be0c5cdcd5072bb1864cdee4d3d6e</td>\n",
       "      <td>2018-11-15 00:02:00</td>\n",
       "      <td>62873</td>\n",
       "      <td>473</td>\n",
       "      <td>latest</td>\n",
       "      <td>0</td>\n",
       "      <td>0</td>\n",
       "    </tr>\n",
       "  </tbody>\n",
       "</table>\n",
       "</div>"
      ],
      "text/plain": [
       "                      impression_id      impression_time  user_id  app_code  \\\n",
       "0  c4ca4238a0b923820dcc509a6f75849b  2018-11-15 00:00:00    87862       422   \n",
       "1  45c48cce2e2d7fbdea1afc51c7c6ad26  2018-11-15 00:01:00    63410       467   \n",
       "2  70efdf2ec9b086079795c442636b55fb  2018-11-15 00:02:00    71748       259   \n",
       "3  8e296a067a37563370ded05f5a3bf3ec  2018-11-15 00:02:00    69209       244   \n",
       "4  182be0c5cdcd5072bb1864cdee4d3d6e  2018-11-15 00:02:00    62873       473   \n",
       "\n",
       "     os_version  is_4G  is_click  \n",
       "0           old      0         0  \n",
       "1        latest      1         1  \n",
       "2  intermediate      1         0  \n",
       "3        latest      1         0  \n",
       "4        latest      0         0  "
      ]
     },
     "execution_count": 29,
     "metadata": {},
     "output_type": "execute_result"
    }
   ],
   "source": [
    "print(train_data.shape)\n",
    "train_data.head() #Partners\n"
   ]
  },
  {
   "cell_type": "code",
   "execution_count": 11,
   "metadata": {},
   "outputs": [
    {
     "name": "stdout",
     "output_type": "stream",
     "text": [
      "(3118622, 5)\n"
     ]
    },
    {
     "data": {
      "text/html": [
       "<div>\n",
       "<style>\n",
       "    .dataframe thead tr:only-child th {\n",
       "        text-align: right;\n",
       "    }\n",
       "\n",
       "    .dataframe thead th {\n",
       "        text-align: left;\n",
       "    }\n",
       "\n",
       "    .dataframe tbody tr th {\n",
       "        vertical-align: top;\n",
       "    }\n",
       "</style>\n",
       "<table border=\"1\" class=\"dataframe\">\n",
       "  <thead>\n",
       "    <tr style=\"text-align: right;\">\n",
       "      <th></th>\n",
       "      <th>server_time</th>\n",
       "      <th>device_type</th>\n",
       "      <th>session_id</th>\n",
       "      <th>user_id</th>\n",
       "      <th>item_id</th>\n",
       "    </tr>\n",
       "  </thead>\n",
       "  <tbody>\n",
       "    <tr>\n",
       "      <th>3118617</th>\n",
       "      <td>2018-12-11 23:59:00</td>\n",
       "      <td>android</td>\n",
       "      <td>135534</td>\n",
       "      <td>49480</td>\n",
       "      <td>1013</td>\n",
       "    </tr>\n",
       "    <tr>\n",
       "      <th>3118618</th>\n",
       "      <td>2018-12-11 23:59:00</td>\n",
       "      <td>android</td>\n",
       "      <td>206169</td>\n",
       "      <td>70215</td>\n",
       "      <td>44826</td>\n",
       "    </tr>\n",
       "    <tr>\n",
       "      <th>3118619</th>\n",
       "      <td>2018-12-11 23:59:00</td>\n",
       "      <td>android</td>\n",
       "      <td>831039</td>\n",
       "      <td>4925</td>\n",
       "      <td>86608</td>\n",
       "    </tr>\n",
       "    <tr>\n",
       "      <th>3118620</th>\n",
       "      <td>2018-12-11 23:59:00</td>\n",
       "      <td>android</td>\n",
       "      <td>601193</td>\n",
       "      <td>16870</td>\n",
       "      <td>38284</td>\n",
       "    </tr>\n",
       "    <tr>\n",
       "      <th>3118621</th>\n",
       "      <td>2018-12-11 23:59:00</td>\n",
       "      <td>android</td>\n",
       "      <td>138217</td>\n",
       "      <td>1007</td>\n",
       "      <td>88331</td>\n",
       "    </tr>\n",
       "  </tbody>\n",
       "</table>\n",
       "</div>"
      ],
      "text/plain": [
       "                 server_time device_type  session_id  user_id  item_id\n",
       "3118617  2018-12-11 23:59:00     android      135534    49480     1013\n",
       "3118618  2018-12-11 23:59:00     android      206169    70215    44826\n",
       "3118619  2018-12-11 23:59:00     android      831039     4925    86608\n",
       "3118620  2018-12-11 23:59:00     android      601193    16870    38284\n",
       "3118621  2018-12-11 23:59:00     android      138217     1007    88331"
      ]
     },
     "execution_count": 11,
     "metadata": {},
     "output_type": "execute_result"
    }
   ],
   "source": [
    "print(view_log.shape)\n",
    "view_log.tail() #Zbey"
   ]
  },
  {
   "cell_type": "code",
   "execution_count": 3,
   "metadata": {},
   "outputs": [
    {
     "data": {
      "text/html": [
       "<div>\n",
       "<style>\n",
       "    .dataframe thead tr:only-child th {\n",
       "        text-align: right;\n",
       "    }\n",
       "\n",
       "    .dataframe thead th {\n",
       "        text-align: left;\n",
       "    }\n",
       "\n",
       "    .dataframe tbody tr th {\n",
       "        vertical-align: top;\n",
       "    }\n",
       "</style>\n",
       "<table border=\"1\" class=\"dataframe\">\n",
       "  <thead>\n",
       "    <tr style=\"text-align: right;\">\n",
       "      <th></th>\n",
       "      <th>item_id</th>\n",
       "      <th>item_price</th>\n",
       "      <th>category_1</th>\n",
       "      <th>category_2</th>\n",
       "      <th>category_3</th>\n",
       "      <th>product_type</th>\n",
       "    </tr>\n",
       "  </thead>\n",
       "  <tbody>\n",
       "    <tr>\n",
       "      <th>0</th>\n",
       "      <td>26880</td>\n",
       "      <td>4602</td>\n",
       "      <td>11</td>\n",
       "      <td>35</td>\n",
       "      <td>20</td>\n",
       "      <td>3040</td>\n",
       "    </tr>\n",
       "    <tr>\n",
       "      <th>1</th>\n",
       "      <td>54939</td>\n",
       "      <td>3513</td>\n",
       "      <td>12</td>\n",
       "      <td>57</td>\n",
       "      <td>85</td>\n",
       "      <td>6822</td>\n",
       "    </tr>\n",
       "    <tr>\n",
       "      <th>2</th>\n",
       "      <td>40383</td>\n",
       "      <td>825</td>\n",
       "      <td>17</td>\n",
       "      <td>8</td>\n",
       "      <td>279</td>\n",
       "      <td>1619</td>\n",
       "    </tr>\n",
       "    <tr>\n",
       "      <th>3</th>\n",
       "      <td>8777</td>\n",
       "      <td>2355</td>\n",
       "      <td>13</td>\n",
       "      <td>58</td>\n",
       "      <td>189</td>\n",
       "      <td>5264</td>\n",
       "    </tr>\n",
       "    <tr>\n",
       "      <th>4</th>\n",
       "      <td>113705</td>\n",
       "      <td>1267</td>\n",
       "      <td>17</td>\n",
       "      <td>39</td>\n",
       "      <td>151</td>\n",
       "      <td>10239</td>\n",
       "    </tr>\n",
       "  </tbody>\n",
       "</table>\n",
       "</div>"
      ],
      "text/plain": [
       "   item_id  item_price  category_1  category_2  category_3  product_type\n",
       "0    26880        4602          11          35          20          3040\n",
       "1    54939        3513          12          57          85          6822\n",
       "2    40383         825          17           8         279          1619\n",
       "3     8777        2355          13          58         189          5264\n",
       "4   113705        1267          17          39         151         10239"
      ]
     },
     "execution_count": 3,
     "metadata": {},
     "output_type": "execute_result"
    }
   ],
   "source": [
    "item_data.head()"
   ]
  },
  {
   "cell_type": "code",
   "execution_count": 12,
   "metadata": {},
   "outputs": [
    {
     "data": {
      "text/plain": [
       "item_id         132761\n",
       "item_price       13531\n",
       "category_1          17\n",
       "category_2          79\n",
       "category_3         335\n",
       "product_type      7959\n",
       "dtype: int64"
      ]
     },
     "execution_count": 12,
     "metadata": {},
     "output_type": "execute_result"
    }
   ],
   "source": [
    "item_data.nunique()"
   ]
  },
  {
   "cell_type": "code",
   "execution_count": 7,
   "metadata": {},
   "outputs": [
    {
     "data": {
      "text/plain": [
       "(11052882, 11)"
      ]
     },
     "execution_count": 7,
     "metadata": {},
     "output_type": "execute_result"
    }
   ],
   "source": [
    "combined_train=pd.merge(train_data,view_log,left_on=['user_id'],right_on=['user_id'],how='inner')\n",
    "combined_train.shape"
   ]
  },
  {
   "cell_type": "code",
   "execution_count": 9,
   "metadata": {},
   "outputs": [
    {
     "data": {
      "text/plain": [
       "(11046039, 16)"
      ]
     },
     "execution_count": 9,
     "metadata": {},
     "output_type": "execute_result"
    }
   ],
   "source": [
    "df=pd.merge(combined_train,item_data,left_on=['item_id'],right_on=['item_id'],how='inner')\n",
    "df.shape"
   ]
  },
  {
   "cell_type": "code",
   "execution_count": 13,
   "metadata": {
    "collapsed": true
   },
   "outputs": [],
   "source": [
    "combined_train=df"
   ]
  },
  {
   "cell_type": "code",
   "execution_count": 10,
   "metadata": {},
   "outputs": [
    {
     "data": {
      "text/html": [
       "<div>\n",
       "<style>\n",
       "    .dataframe thead tr:only-child th {\n",
       "        text-align: right;\n",
       "    }\n",
       "\n",
       "    .dataframe thead th {\n",
       "        text-align: left;\n",
       "    }\n",
       "\n",
       "    .dataframe tbody tr th {\n",
       "        vertical-align: top;\n",
       "    }\n",
       "</style>\n",
       "<table border=\"1\" class=\"dataframe\">\n",
       "  <thead>\n",
       "    <tr style=\"text-align: right;\">\n",
       "      <th></th>\n",
       "      <th>impression_id</th>\n",
       "      <th>impression_time</th>\n",
       "      <th>user_id</th>\n",
       "      <th>app_code</th>\n",
       "      <th>os_version</th>\n",
       "      <th>is_4G</th>\n",
       "      <th>is_click</th>\n",
       "      <th>server_time</th>\n",
       "      <th>device_type</th>\n",
       "      <th>session_id</th>\n",
       "      <th>item_id</th>\n",
       "      <th>item_price</th>\n",
       "      <th>category_1</th>\n",
       "      <th>category_2</th>\n",
       "      <th>category_3</th>\n",
       "      <th>product_type</th>\n",
       "    </tr>\n",
       "  </thead>\n",
       "  <tbody>\n",
       "    <tr>\n",
       "      <th>0</th>\n",
       "      <td>c4ca4238a0b923820dcc509a6f75849b</td>\n",
       "      <td>2018-11-15 00:00:00</td>\n",
       "      <td>87862</td>\n",
       "      <td>422</td>\n",
       "      <td>old</td>\n",
       "      <td>0</td>\n",
       "      <td>0</td>\n",
       "      <td>2018-10-19 18:11:00</td>\n",
       "      <td>android</td>\n",
       "      <td>190710</td>\n",
       "      <td>43886</td>\n",
       "      <td>2350</td>\n",
       "      <td>11</td>\n",
       "      <td>35</td>\n",
       "      <td>20</td>\n",
       "      <td>5622</td>\n",
       "    </tr>\n",
       "    <tr>\n",
       "      <th>1</th>\n",
       "      <td>621bf66ddb7c962aa0d22ac97d69b793</td>\n",
       "      <td>2018-11-15 00:19:00</td>\n",
       "      <td>87862</td>\n",
       "      <td>422</td>\n",
       "      <td>old</td>\n",
       "      <td>0</td>\n",
       "      <td>0</td>\n",
       "      <td>2018-10-19 18:11:00</td>\n",
       "      <td>android</td>\n",
       "      <td>190710</td>\n",
       "      <td>43886</td>\n",
       "      <td>2350</td>\n",
       "      <td>11</td>\n",
       "      <td>35</td>\n",
       "      <td>20</td>\n",
       "      <td>5622</td>\n",
       "    </tr>\n",
       "    <tr>\n",
       "      <th>2</th>\n",
       "      <td>ab394288aed46588bdc90bf4b541ec0d</td>\n",
       "      <td>2018-11-16 17:29:00</td>\n",
       "      <td>87862</td>\n",
       "      <td>422</td>\n",
       "      <td>old</td>\n",
       "      <td>0</td>\n",
       "      <td>0</td>\n",
       "      <td>2018-10-19 18:11:00</td>\n",
       "      <td>android</td>\n",
       "      <td>190710</td>\n",
       "      <td>43886</td>\n",
       "      <td>2350</td>\n",
       "      <td>11</td>\n",
       "      <td>35</td>\n",
       "      <td>20</td>\n",
       "      <td>5622</td>\n",
       "    </tr>\n",
       "    <tr>\n",
       "      <th>3</th>\n",
       "      <td>372d3f309fef061977fb2f7ba36d74d2</td>\n",
       "      <td>2018-11-15 06:11:00</td>\n",
       "      <td>85131</td>\n",
       "      <td>207</td>\n",
       "      <td>latest</td>\n",
       "      <td>1</td>\n",
       "      <td>0</td>\n",
       "      <td>2018-10-15 13:25:00</td>\n",
       "      <td>android</td>\n",
       "      <td>663666</td>\n",
       "      <td>43886</td>\n",
       "      <td>2350</td>\n",
       "      <td>11</td>\n",
       "      <td>35</td>\n",
       "      <td>20</td>\n",
       "      <td>5622</td>\n",
       "    </tr>\n",
       "    <tr>\n",
       "      <th>4</th>\n",
       "      <td>372d3f309fef061977fb2f7ba36d74d2</td>\n",
       "      <td>2018-11-15 06:11:00</td>\n",
       "      <td>85131</td>\n",
       "      <td>207</td>\n",
       "      <td>latest</td>\n",
       "      <td>1</td>\n",
       "      <td>0</td>\n",
       "      <td>2018-11-27 11:30:00</td>\n",
       "      <td>android</td>\n",
       "      <td>846052</td>\n",
       "      <td>43886</td>\n",
       "      <td>2350</td>\n",
       "      <td>11</td>\n",
       "      <td>35</td>\n",
       "      <td>20</td>\n",
       "      <td>5622</td>\n",
       "    </tr>\n",
       "  </tbody>\n",
       "</table>\n",
       "</div>"
      ],
      "text/plain": [
       "                      impression_id      impression_time  user_id  app_code  \\\n",
       "0  c4ca4238a0b923820dcc509a6f75849b  2018-11-15 00:00:00    87862       422   \n",
       "1  621bf66ddb7c962aa0d22ac97d69b793  2018-11-15 00:19:00    87862       422   \n",
       "2  ab394288aed46588bdc90bf4b541ec0d  2018-11-16 17:29:00    87862       422   \n",
       "3  372d3f309fef061977fb2f7ba36d74d2  2018-11-15 06:11:00    85131       207   \n",
       "4  372d3f309fef061977fb2f7ba36d74d2  2018-11-15 06:11:00    85131       207   \n",
       "\n",
       "  os_version  is_4G  is_click          server_time device_type  session_id  \\\n",
       "0        old      0         0  2018-10-19 18:11:00     android      190710   \n",
       "1        old      0         0  2018-10-19 18:11:00     android      190710   \n",
       "2        old      0         0  2018-10-19 18:11:00     android      190710   \n",
       "3     latest      1         0  2018-10-15 13:25:00     android      663666   \n",
       "4     latest      1         0  2018-11-27 11:30:00     android      846052   \n",
       "\n",
       "   item_id  item_price  category_1  category_2  category_3  product_type  \n",
       "0    43886        2350          11          35          20          5622  \n",
       "1    43886        2350          11          35          20          5622  \n",
       "2    43886        2350          11          35          20          5622  \n",
       "3    43886        2350          11          35          20          5622  \n",
       "4    43886        2350          11          35          20          5622  "
      ]
     },
     "execution_count": 10,
     "metadata": {},
     "output_type": "execute_result"
    }
   ],
   "source": [
    "df.head()"
   ]
  },
  {
   "cell_type": "code",
   "execution_count": 30,
   "metadata": {
    "collapsed": true
   },
   "outputs": [],
   "source": [
    "#pd.set_option('display.max_columns',50)"
   ]
  },
  {
   "cell_type": "code",
   "execution_count": 31,
   "metadata": {},
   "outputs": [
    {
     "data": {
      "text/html": [
       "<div>\n",
       "<style>\n",
       "    .dataframe thead tr:only-child th {\n",
       "        text-align: right;\n",
       "    }\n",
       "\n",
       "    .dataframe thead th {\n",
       "        text-align: left;\n",
       "    }\n",
       "\n",
       "    .dataframe tbody tr th {\n",
       "        vertical-align: top;\n",
       "    }\n",
       "</style>\n",
       "<table border=\"1\" class=\"dataframe\">\n",
       "  <thead>\n",
       "    <tr style=\"text-align: right;\">\n",
       "      <th></th>\n",
       "      <th>impression_id</th>\n",
       "      <th>impression_time</th>\n",
       "      <th>user_id</th>\n",
       "      <th>app_code</th>\n",
       "      <th>os_version</th>\n",
       "      <th>is_4G</th>\n",
       "      <th>is_click</th>\n",
       "      <th>server_time</th>\n",
       "      <th>device_type</th>\n",
       "      <th>session_id</th>\n",
       "      <th>item_id</th>\n",
       "    </tr>\n",
       "  </thead>\n",
       "  <tbody>\n",
       "    <tr>\n",
       "      <th>0</th>\n",
       "      <td>c4ca4238a0b923820dcc509a6f75849b</td>\n",
       "      <td>2018-11-15 00:00:00</td>\n",
       "      <td>87862</td>\n",
       "      <td>422</td>\n",
       "      <td>old</td>\n",
       "      <td>0</td>\n",
       "      <td>0</td>\n",
       "      <td>2018-10-19 18:11:00</td>\n",
       "      <td>android</td>\n",
       "      <td>190710</td>\n",
       "      <td>43886</td>\n",
       "    </tr>\n",
       "    <tr>\n",
       "      <th>1</th>\n",
       "      <td>621bf66ddb7c962aa0d22ac97d69b793</td>\n",
       "      <td>2018-11-15 00:19:00</td>\n",
       "      <td>87862</td>\n",
       "      <td>422</td>\n",
       "      <td>old</td>\n",
       "      <td>0</td>\n",
       "      <td>0</td>\n",
       "      <td>2018-10-19 18:11:00</td>\n",
       "      <td>android</td>\n",
       "      <td>190710</td>\n",
       "      <td>43886</td>\n",
       "    </tr>\n",
       "    <tr>\n",
       "      <th>2</th>\n",
       "      <td>ab394288aed46588bdc90bf4b541ec0d</td>\n",
       "      <td>2018-11-16 17:29:00</td>\n",
       "      <td>87862</td>\n",
       "      <td>422</td>\n",
       "      <td>old</td>\n",
       "      <td>0</td>\n",
       "      <td>0</td>\n",
       "      <td>2018-10-19 18:11:00</td>\n",
       "      <td>android</td>\n",
       "      <td>190710</td>\n",
       "      <td>43886</td>\n",
       "    </tr>\n",
       "    <tr>\n",
       "      <th>3</th>\n",
       "      <td>45c48cce2e2d7fbdea1afc51c7c6ad26</td>\n",
       "      <td>2018-11-15 00:01:00</td>\n",
       "      <td>63410</td>\n",
       "      <td>467</td>\n",
       "      <td>latest</td>\n",
       "      <td>1</td>\n",
       "      <td>1</td>\n",
       "      <td>2018-10-21 06:13:00</td>\n",
       "      <td>android</td>\n",
       "      <td>356854</td>\n",
       "      <td>43209</td>\n",
       "    </tr>\n",
       "    <tr>\n",
       "      <th>4</th>\n",
       "      <td>45c48cce2e2d7fbdea1afc51c7c6ad26</td>\n",
       "      <td>2018-11-15 00:01:00</td>\n",
       "      <td>63410</td>\n",
       "      <td>467</td>\n",
       "      <td>latest</td>\n",
       "      <td>1</td>\n",
       "      <td>1</td>\n",
       "      <td>2018-10-21 06:13:00</td>\n",
       "      <td>android</td>\n",
       "      <td>356854</td>\n",
       "      <td>66370</td>\n",
       "    </tr>\n",
       "  </tbody>\n",
       "</table>\n",
       "</div>"
      ],
      "text/plain": [
       "                      impression_id      impression_time  user_id  app_code  \\\n",
       "0  c4ca4238a0b923820dcc509a6f75849b  2018-11-15 00:00:00    87862       422   \n",
       "1  621bf66ddb7c962aa0d22ac97d69b793  2018-11-15 00:19:00    87862       422   \n",
       "2  ab394288aed46588bdc90bf4b541ec0d  2018-11-16 17:29:00    87862       422   \n",
       "3  45c48cce2e2d7fbdea1afc51c7c6ad26  2018-11-15 00:01:00    63410       467   \n",
       "4  45c48cce2e2d7fbdea1afc51c7c6ad26  2018-11-15 00:01:00    63410       467   \n",
       "\n",
       "  os_version  is_4G  is_click          server_time device_type  session_id  \\\n",
       "0        old      0         0  2018-10-19 18:11:00     android      190710   \n",
       "1        old      0         0  2018-10-19 18:11:00     android      190710   \n",
       "2        old      0         0  2018-10-19 18:11:00     android      190710   \n",
       "3     latest      1         1  2018-10-21 06:13:00     android      356854   \n",
       "4     latest      1         1  2018-10-21 06:13:00     android      356854   \n",
       "\n",
       "   item_id  \n",
       "0    43886  \n",
       "1    43886  \n",
       "2    43886  \n",
       "3    43209  \n",
       "4    66370  "
      ]
     },
     "execution_count": 31,
     "metadata": {},
     "output_type": "execute_result"
    }
   ],
   "source": [
    "combined_train.head()"
   ]
  },
  {
   "cell_type": "code",
   "execution_count": 32,
   "metadata": {},
   "outputs": [
    {
     "name": "stdout",
     "output_type": "stream",
     "text": [
      "<class 'pandas.core.frame.DataFrame'>\n",
      "Int64Index: 11052882 entries, 0 to 11052881\n",
      "Data columns (total 11 columns):\n",
      "impression_id      object\n",
      "impression_time    object\n",
      "user_id            int64\n",
      "app_code           int64\n",
      "os_version         object\n",
      "is_4G              int64\n",
      "is_click           int64\n",
      "server_time        object\n",
      "device_type        object\n",
      "session_id         int64\n",
      "item_id            int64\n",
      "dtypes: int64(6), object(5)\n",
      "memory usage: 1011.9+ MB\n"
     ]
    }
   ],
   "source": [
    "combined_train.info()"
   ]
  },
  {
   "cell_type": "code",
   "execution_count": 33,
   "metadata": {},
   "outputs": [
    {
     "data": {
      "text/plain": [
       "impression_id      237609\n",
       "impression_time     36461\n",
       "user_id             74723\n",
       "app_code              490\n",
       "os_version              3\n",
       "is_4G                   2\n",
       "is_click                2\n",
       "server_time         82802\n",
       "device_type             3\n",
       "session_id         874584\n",
       "item_id            117249\n",
       "dtype: int64"
      ]
     },
     "execution_count": 33,
     "metadata": {},
     "output_type": "execute_result"
    }
   ],
   "source": [
    "combined_train.nunique()"
   ]
  },
  {
   "cell_type": "code",
   "execution_count": 34,
   "metadata": {},
   "outputs": [
    {
     "data": {
      "text/plain": [
       "impression_id      0\n",
       "impression_time    0\n",
       "user_id            0\n",
       "app_code           0\n",
       "os_version         0\n",
       "is_4G              0\n",
       "is_click           0\n",
       "server_time        0\n",
       "device_type        0\n",
       "session_id         0\n",
       "item_id            0\n",
       "dtype: int64"
      ]
     },
     "execution_count": 34,
     "metadata": {},
     "output_type": "execute_result"
    }
   ],
   "source": [
    "combined_train.isnull().sum()"
   ]
  },
  {
   "cell_type": "code",
   "execution_count": 35,
   "metadata": {},
   "outputs": [
    {
     "data": {
      "text/plain": [
       "impression_id      object\n",
       "impression_time    object\n",
       "user_id             int64\n",
       "app_code            int64\n",
       "os_version         object\n",
       "is_4G               int64\n",
       "is_click            int64\n",
       "server_time        object\n",
       "device_type        object\n",
       "session_id          int64\n",
       "item_id             int64\n",
       "dtype: object"
      ]
     },
     "execution_count": 35,
     "metadata": {},
     "output_type": "execute_result"
    }
   ],
   "source": [
    "combined_train.dtypes"
   ]
  },
  {
   "cell_type": "code",
   "execution_count": 37,
   "metadata": {},
   "outputs": [
    {
     "data": {
      "text/plain": [
       "Index(['impression_id', 'impression_time', 'user_id', 'app_code', 'os_version',\n",
       "       'is_4G', 'is_click', 'server_time', 'device_type', 'session_id',\n",
       "       'item_id'],\n",
       "      dtype='object')"
      ]
     },
     "execution_count": 37,
     "metadata": {},
     "output_type": "execute_result"
    }
   ],
   "source": [
    "combined_train.columns"
   ]
  },
  {
   "cell_type": "code",
   "execution_count": 38,
   "metadata": {},
   "outputs": [
    {
     "data": {
      "text/html": [
       "<div>\n",
       "<style>\n",
       "    .dataframe thead tr:only-child th {\n",
       "        text-align: right;\n",
       "    }\n",
       "\n",
       "    .dataframe thead th {\n",
       "        text-align: left;\n",
       "    }\n",
       "\n",
       "    .dataframe tbody tr th {\n",
       "        vertical-align: top;\n",
       "    }\n",
       "</style>\n",
       "<table border=\"1\" class=\"dataframe\">\n",
       "  <thead>\n",
       "    <tr style=\"text-align: right;\">\n",
       "      <th></th>\n",
       "      <th>user_id</th>\n",
       "      <th>app_code</th>\n",
       "      <th>is_4G</th>\n",
       "      <th>is_click</th>\n",
       "      <th>session_id</th>\n",
       "      <th>item_id</th>\n",
       "    </tr>\n",
       "  </thead>\n",
       "  <tbody>\n",
       "    <tr>\n",
       "      <th>count</th>\n",
       "      <td>1.105288e+07</td>\n",
       "      <td>1.105288e+07</td>\n",
       "      <td>1.105288e+07</td>\n",
       "      <td>1.105288e+07</td>\n",
       "      <td>1.105288e+07</td>\n",
       "      <td>1.105288e+07</td>\n",
       "    </tr>\n",
       "    <tr>\n",
       "      <th>mean</th>\n",
       "      <td>4.637673e+04</td>\n",
       "      <td>2.511502e+02</td>\n",
       "      <td>3.086756e-01</td>\n",
       "      <td>5.985959e-02</td>\n",
       "      <td>5.457093e+05</td>\n",
       "      <td>6.615669e+04</td>\n",
       "    </tr>\n",
       "    <tr>\n",
       "      <th>std</th>\n",
       "      <td>2.691703e+04</td>\n",
       "      <td>1.337467e+02</td>\n",
       "      <td>4.619470e-01</td>\n",
       "      <td>2.372265e-01</td>\n",
       "      <td>3.139503e+05</td>\n",
       "      <td>3.827605e+04</td>\n",
       "    </tr>\n",
       "    <tr>\n",
       "      <th>min</th>\n",
       "      <td>0.000000e+00</td>\n",
       "      <td>0.000000e+00</td>\n",
       "      <td>0.000000e+00</td>\n",
       "      <td>0.000000e+00</td>\n",
       "      <td>0.000000e+00</td>\n",
       "      <td>0.000000e+00</td>\n",
       "    </tr>\n",
       "    <tr>\n",
       "      <th>25%</th>\n",
       "      <td>2.319000e+04</td>\n",
       "      <td>1.630000e+02</td>\n",
       "      <td>0.000000e+00</td>\n",
       "      <td>0.000000e+00</td>\n",
       "      <td>2.750590e+05</td>\n",
       "      <td>3.323900e+04</td>\n",
       "    </tr>\n",
       "    <tr>\n",
       "      <th>50%</th>\n",
       "      <td>4.668100e+04</td>\n",
       "      <td>2.170000e+02</td>\n",
       "      <td>0.000000e+00</td>\n",
       "      <td>0.000000e+00</td>\n",
       "      <td>5.468430e+05</td>\n",
       "      <td>6.761100e+04</td>\n",
       "    </tr>\n",
       "    <tr>\n",
       "      <th>75%</th>\n",
       "      <td>6.965200e+04</td>\n",
       "      <td>3.850000e+02</td>\n",
       "      <td>1.000000e+00</td>\n",
       "      <td>0.000000e+00</td>\n",
       "      <td>8.170160e+05</td>\n",
       "      <td>9.953100e+04</td>\n",
       "    </tr>\n",
       "    <tr>\n",
       "      <th>max</th>\n",
       "      <td>9.258600e+04</td>\n",
       "      <td>5.220000e+02</td>\n",
       "      <td>1.000000e+00</td>\n",
       "      <td>1.000000e+00</td>\n",
       "      <td>1.089677e+06</td>\n",
       "      <td>1.328650e+05</td>\n",
       "    </tr>\n",
       "  </tbody>\n",
       "</table>\n",
       "</div>"
      ],
      "text/plain": [
       "            user_id      app_code         is_4G      is_click    session_id  \\\n",
       "count  1.105288e+07  1.105288e+07  1.105288e+07  1.105288e+07  1.105288e+07   \n",
       "mean   4.637673e+04  2.511502e+02  3.086756e-01  5.985959e-02  5.457093e+05   \n",
       "std    2.691703e+04  1.337467e+02  4.619470e-01  2.372265e-01  3.139503e+05   \n",
       "min    0.000000e+00  0.000000e+00  0.000000e+00  0.000000e+00  0.000000e+00   \n",
       "25%    2.319000e+04  1.630000e+02  0.000000e+00  0.000000e+00  2.750590e+05   \n",
       "50%    4.668100e+04  2.170000e+02  0.000000e+00  0.000000e+00  5.468430e+05   \n",
       "75%    6.965200e+04  3.850000e+02  1.000000e+00  0.000000e+00  8.170160e+05   \n",
       "max    9.258600e+04  5.220000e+02  1.000000e+00  1.000000e+00  1.089677e+06   \n",
       "\n",
       "            item_id  \n",
       "count  1.105288e+07  \n",
       "mean   6.615669e+04  \n",
       "std    3.827605e+04  \n",
       "min    0.000000e+00  \n",
       "25%    3.323900e+04  \n",
       "50%    6.761100e+04  \n",
       "75%    9.953100e+04  \n",
       "max    1.328650e+05  "
      ]
     },
     "execution_count": 38,
     "metadata": {},
     "output_type": "execute_result"
    }
   ],
   "source": [
    "combined_train.describe()"
   ]
  },
  {
   "cell_type": "code",
   "execution_count": 54,
   "metadata": {},
   "outputs": [
    {
     "name": "stdout",
     "output_type": "stream",
     "text": [
      "0    10391261\n",
      "1      661621\n",
      "Name: is_click, dtype: int64\n",
      "1 proposition: 94.0140408628\n",
      "0 proposition: 5.98595913717\n"
     ]
    }
   ],
   "source": [
    "print(combined_train.is_click.value_counts())\n",
    "print('1 proposition:',combined_train.is_click.value_counts()[0]/combined_train.shape[0]*100)\n",
    "print('0 proposition:',combined_train.is_click.value_counts()[1]/combined_train.shape[0]*100)"
   ]
  },
  {
   "cell_type": "code",
   "execution_count": 43,
   "metadata": {},
   "outputs": [
    {
     "data": {
      "text/plain": [
       "user_id  is_click\n",
       "0        0            42\n",
       "2        0           660\n",
       "3        0             8\n",
       "5        0             2\n",
       "6        0            13\n",
       "8        0           182\n",
       "9        0            88\n",
       "10       0           184\n",
       "11       0             2\n",
       "12       0           105\n",
       "14       0            51\n",
       "15       0            45\n",
       "16       0             9\n",
       "18       0            24\n",
       "19       0            41\n",
       "20       0           270\n",
       "21       0            38\n",
       "22       0            21\n",
       "23       0             1\n",
       "25       0            49\n",
       "26       0           126\n",
       "28       0            34\n",
       "29       0            25\n",
       "31       0            18\n",
       "32       0            90\n",
       "33       1            12\n",
       "34       0            88\n",
       "35       0            15\n",
       "36       0            34\n",
       "         1            34\n",
       "                    ... \n",
       "92552    0             2\n",
       "92553    0            16\n",
       "92554    0            12\n",
       "92555    0            17\n",
       "         1            17\n",
       "92556    0             2\n",
       "92557    0             6\n",
       "92558    0            40\n",
       "92559    0            16\n",
       "92560    0            20\n",
       "92561    0            34\n",
       "92562    1             3\n",
       "92565    1             7\n",
       "92566    0            31\n",
       "92567    0           560\n",
       "92569    0            82\n",
       "92571    0             3\n",
       "92572    0            15\n",
       "92573    0            12\n",
       "92574    1             2\n",
       "92576    0            24\n",
       "92577    0             4\n",
       "92578    0            16\n",
       "92579    0            25\n",
       "92580    0            36\n",
       "92581    1            11\n",
       "92582    0            11\n",
       "92583    0             6\n",
       "92585    0             5\n",
       "92586    0            66\n",
       "Name: is_click, Length: 80847, dtype: int64"
      ]
     },
     "execution_count": 43,
     "metadata": {},
     "output_type": "execute_result"
    }
   ],
   "source": [
    "combined_train.groupby('user_id').is_click.value_counts()"
   ]
  },
  {
   "cell_type": "code",
   "execution_count": 39,
   "metadata": {},
   "outputs": [
    {
     "data": {
      "text/html": [
       "<div>\n",
       "<style>\n",
       "    .dataframe thead tr:only-child th {\n",
       "        text-align: right;\n",
       "    }\n",
       "\n",
       "    .dataframe thead th {\n",
       "        text-align: left;\n",
       "    }\n",
       "\n",
       "    .dataframe tbody tr th {\n",
       "        vertical-align: top;\n",
       "    }\n",
       "</style>\n",
       "<table border=\"1\" class=\"dataframe\">\n",
       "  <thead>\n",
       "    <tr style=\"text-align: right;\">\n",
       "      <th></th>\n",
       "      <th>impression_id</th>\n",
       "      <th>impression_time</th>\n",
       "      <th>user_id</th>\n",
       "      <th>app_code</th>\n",
       "      <th>os_version</th>\n",
       "      <th>is_4G</th>\n",
       "    </tr>\n",
       "  </thead>\n",
       "  <tbody>\n",
       "    <tr>\n",
       "      <th>0</th>\n",
       "      <td>a9e7126a585a69a32bc7414e9d0c0ada</td>\n",
       "      <td>2018-12-13 07:44:00</td>\n",
       "      <td>44754</td>\n",
       "      <td>127</td>\n",
       "      <td>latest</td>\n",
       "      <td>1</td>\n",
       "    </tr>\n",
       "    <tr>\n",
       "      <th>1</th>\n",
       "      <td>caac14a5bf2ba283db7708bb34855760</td>\n",
       "      <td>2018-12-13 07:45:00</td>\n",
       "      <td>29656</td>\n",
       "      <td>44</td>\n",
       "      <td>latest</td>\n",
       "      <td>0</td>\n",
       "    </tr>\n",
       "    <tr>\n",
       "      <th>2</th>\n",
       "      <td>13f10ba306a19ce7bec2f3cae507b698</td>\n",
       "      <td>2018-12-13 07:46:00</td>\n",
       "      <td>25234</td>\n",
       "      <td>296</td>\n",
       "      <td>latest</td>\n",
       "      <td>1</td>\n",
       "    </tr>\n",
       "    <tr>\n",
       "      <th>3</th>\n",
       "      <td>39c4b4dc0e9701b55a0a4f072008fb3f</td>\n",
       "      <td>2018-12-13 07:47:00</td>\n",
       "      <td>22988</td>\n",
       "      <td>207</td>\n",
       "      <td>latest</td>\n",
       "      <td>1</td>\n",
       "    </tr>\n",
       "    <tr>\n",
       "      <th>4</th>\n",
       "      <td>bf5a572cca75f5fc67f4b14e58b11d70</td>\n",
       "      <td>2018-12-13 07:48:00</td>\n",
       "      <td>35431</td>\n",
       "      <td>242</td>\n",
       "      <td>latest</td>\n",
       "      <td>1</td>\n",
       "    </tr>\n",
       "  </tbody>\n",
       "</table>\n",
       "</div>"
      ],
      "text/plain": [
       "                      impression_id      impression_time  user_id  app_code  \\\n",
       "0  a9e7126a585a69a32bc7414e9d0c0ada  2018-12-13 07:44:00    44754       127   \n",
       "1  caac14a5bf2ba283db7708bb34855760  2018-12-13 07:45:00    29656        44   \n",
       "2  13f10ba306a19ce7bec2f3cae507b698  2018-12-13 07:46:00    25234       296   \n",
       "3  39c4b4dc0e9701b55a0a4f072008fb3f  2018-12-13 07:47:00    22988       207   \n",
       "4  bf5a572cca75f5fc67f4b14e58b11d70  2018-12-13 07:48:00    35431       242   \n",
       "\n",
       "  os_version  is_4G  \n",
       "0     latest      1  \n",
       "1     latest      0  \n",
       "2     latest      1  \n",
       "3     latest      1  \n",
       "4     latest      1  "
      ]
     },
     "execution_count": 39,
     "metadata": {},
     "output_type": "execute_result"
    }
   ],
   "source": [
    "test_data.head()"
   ]
  },
  {
   "cell_type": "code",
   "execution_count": 56,
   "metadata": {},
   "outputs": [
    {
     "data": {
      "text/plain": [
       "device_type  is_click\n",
       "android      0           10388413\n",
       "             1             661478\n",
       "iphone       0               2739\n",
       "             1                136\n",
       "web          0                109\n",
       "             1                  7\n",
       "Name: is_click, dtype: int64"
      ]
     },
     "execution_count": 56,
     "metadata": {},
     "output_type": "execute_result"
    }
   ],
   "source": [
    "combined_train.groupby('device_type').is_click.value_counts()"
   ]
  },
  {
   "cell_type": "code",
   "execution_count": 66,
   "metadata": {},
   "outputs": [
    {
     "data": {
      "text/plain": [
       "<matplotlib.axes._subplots.AxesSubplot at 0x26a11129240>"
      ]
     },
     "execution_count": 66,
     "metadata": {},
     "output_type": "execute_result"
    },
    {
     "data": {
      "image/png": "[encoded data removed]",
      "text/plain": [
       "<matplotlib.figure.Figure at 0x26a10e8cb70>"
      ]
     },
     "metadata": {},
     "output_type": "display_data"
    }
   ],
   "source": [
    "sns.countplot(y='device_type',data=combined_train,hue='is_click')"
   ]
  },
  {
   "cell_type": "code",
   "execution_count": 67,
   "metadata": {},
   "outputs": [
    {
     "data": {
      "text/plain": [
       "0    10391261\n",
       "1      661621\n",
       "Name: is_click, dtype: int64"
      ]
     },
     "execution_count": 67,
     "metadata": {},
     "output_type": "execute_result"
    }
   ],
   "source": [
    "combined_train.is_click.value_counts()"
   ]
  },
  {
   "cell_type": "code",
   "execution_count": 68,
   "metadata": {},
   "outputs": [
    {
     "data": {
      "text/plain": [
       "Index(['impression_id', 'impression_time', 'user_id', 'app_code', 'os_version',\n",
       "       'is_4G', 'is_click', 'server_time', 'device_type', 'session_id',\n",
       "       'item_id'],\n",
       "      dtype='object')"
      ]
     },
     "execution_count": 68,
     "metadata": {},
     "output_type": "execute_result"
    }
   ],
   "source": [
    "combined_train.columns"
   ]
  },
  {
   "cell_type": "code",
   "execution_count": 72,
   "metadata": {},
   "outputs": [
    {
     "data": {
      "text/plain": [
       "impression_id                     is_click\n",
       "00003e3b9e5336685200ae85d21b4f5e  0            11\n",
       "000053b1e684c9e7ea73727b2238ce18  0            49\n",
       "00005d011db80a956aab176cc94d1d37  0            42\n",
       "0000b2815cc3c2b56867cbbf4d36efa5  0            24\n",
       "0001261e2060303a06ba6c64d676d639  0            83\n",
       "000133296ef6b63b0210f224e1347365  0           661\n",
       "00017961865c4f766fdbb3cd8fe0bfb0  0             7\n",
       "00019d812c1173c8a69c656a40fa8767  0            15\n",
       "00029153d12ae1c9abe59c17ff2e0895  0             2\n",
       "000298d8a61b4f7b0fe5c7fd3d8c4c9c  0             4\n",
       "0002ac0d783338cfeab0b2bdbd872cda  0             9\n",
       "000301f03b49367318d4033ac5141b77  0             3\n",
       "00031f1471b05cb1bfc7f4ea4f845e2e  0             5\n",
       "00036f182bb0746fc8048d8e0bc785b3  0             4\n",
       "0004289ee1c7b8b08c77e19878106ae3  0            22\n",
       "00043ad3146f033d4bf1beb502fa6e09  0             2\n",
       "0004a1c8eb4f54e498a5566a7b2c72c5  0            15\n",
       "0004d0b59e19461ff126e3a08a814c33  0           135\n",
       "00053f5e11d1fe4e49a221165b39abc9  0            17\n",
       "00056c20eb5a029583db75506953f1d9  0            95\n",
       "0005be72222f46d91b8ed2fa0ac86cc9  0           306\n",
       "0005cd3c502f964bc45143bf7b113d7e  0           170\n",
       "0006246bee639c7a7b11a08e34dd3cc6  0            77\n",
       "00063cb5da1826febf178b669eea3250  0            20\n",
       "00063ece2e68a8847f228e8fd922f851  0            13\n",
       "0006aabe0ba47a35c0b0bf6596f85159  0           144\n",
       "0006dd05ea1e999ddaa041a7091b7b36  0             3\n",
       "0007168c1e1770d30a98ea7e360765d5  0             1\n",
       "0007789b118e4710fc0e7c8758a6532a  0             4\n",
       "0007cda84fafdcf42f96c4f4adb7f8ce  0            18\n",
       "                                             ... \n",
       "fff8406e7b47fcdfea71e0e12b74b0ec  0            16\n",
       "fff855cddcd8ab3cc1c1b4958b6c95cd  0            13\n",
       "fff87fc38496c1838a216c742e653065  0            63\n",
       "fff887ca068d80b41907895f9bfd340c  0             7\n",
       "fff8db9478d2fd72df65a67ee6b62f67  0            15\n",
       "fff8faae0f463683d652fb08a97474bc  0           177\n",
       "fff98e721ed96517d940eb5b2daf2d18  0            69\n",
       "fff9e3be29d11366c43df7b2ae749547  0            14\n",
       "fffa70968422d2ef6243be1127fe1e40  0            65\n",
       "fffae68750a8bd5e6ba46b25ce7030de  0            28\n",
       "fffaee1d19b93f046ff12095b5c56685  0            50\n",
       "fffafb2f01ed684b1faad2ed0ae1efbc  0           206\n",
       "fffb8ef15de06d87e6ba6c830f3b6284  0            70\n",
       "fffbaa156b026dfc0e11dbd799bf7344  0             9\n",
       "fffbc65cff7705cc5bca00328d92c004  0            28\n",
       "fffbf07fb6d16bfe6d9df466146ad511  0             2\n",
       "fffc797556611242e316e22cd5743f3d  0            15\n",
       "fffc9156c52b92a7a95beef567d3b17a  1            53\n",
       "fffcc1a3964b4ad665fa2f07d7bfd086  0            23\n",
       "fffd61e63a1c045ec0cfd80e99b0367a  0           101\n",
       "fffdb2ba4cfd956639195cde010f6210  0            44\n",
       "fffe1ddcc085ca5a319af3314cff2cb4  0             3\n",
       "fffe56994e6be696722539f962415cd2  0             4\n",
       "fffe9f664c2ddba4a37bcd35936c7422  0           128\n",
       "fffea28543f891d04b2a67609b825e9d  0            74\n",
       "fffee5badc626a2ab8086120712e5639  0            13\n",
       "ffff748a7ac35759d9fef57a34fd4a21  0            53\n",
       "ffffb8de2d77567f452ad766471a9e5e  0            18\n",
       "ffffda8ada4827900cbf65fd20281080  0            25\n",
       "fffffe98d0963d27015c198262d97221  0            10\n",
       "Name: is_click, Length: 237609, dtype: int64"
      ]
     },
     "execution_count": 72,
     "metadata": {},
     "output_type": "execute_result"
    }
   ],
   "source": [
    "combined_train.groupby('impression_id').is_click.value_counts()"
   ]
  },
  {
   "cell_type": "code",
   "execution_count": 81,
   "metadata": {},
   "outputs": [
    {
     "data": {
      "text/plain": [
       "0    1\n",
       "Name: is_click, dtype: int64"
      ]
     },
     "execution_count": 81,
     "metadata": {},
     "output_type": "execute_result"
    }
   ],
   "source": [
    "combined_train.loc[combined_train.impression_id=='ab394288aed46588bdc90bf4b541ec0d'].is_click.value_counts()"
   ]
  },
  {
   "cell_type": "code",
   "execution_count": 82,
   "metadata": {},
   "outputs": [
    {
     "data": {
      "text/plain": [
       "impression_id      object\n",
       "impression_time    object\n",
       "user_id             int64\n",
       "app_code            int64\n",
       "os_version         object\n",
       "is_4G               int64\n",
       "is_click            int64\n",
       "server_time        object\n",
       "device_type        object\n",
       "session_id          int64\n",
       "item_id             int64\n",
       "dtype: object"
      ]
     },
     "execution_count": 82,
     "metadata": {},
     "output_type": "execute_result"
    }
   ],
   "source": [
    "combined_train.dtypes"
   ]
  },
  {
   "cell_type": "code",
   "execution_count": 84,
   "metadata": {},
   "outputs": [
    {
     "data": {
      "text/plain": [
       "339367     3450\n",
       "554800     2556\n",
       "632525     2340\n",
       "651067     2278\n",
       "955678     2200\n",
       "744389     2193\n",
       "1060531    2074\n",
       "268638     2070\n",
       "606992     2068\n",
       "603673     2046\n",
       "300586     1938\n",
       "1047176    1880\n",
       "548210     1800\n",
       "693140     1650\n",
       "759258     1617\n",
       "512958     1590\n",
       "845621     1564\n",
       "974682     1560\n",
       "291543     1513\n",
       "99042      1500\n",
       "652195     1485\n",
       "536592     1480\n",
       "785808     1472\n",
       "609165     1464\n",
       "1085014    1450\n",
       "765508     1428\n",
       "333344     1400\n",
       "606329     1392\n",
       "775536     1386\n",
       "206143     1368\n",
       "           ... \n",
       "682214        1\n",
       "694976        1\n",
       "943509        1\n",
       "486622        1\n",
       "674018        1\n",
       "922207        1\n",
       "938583        1\n",
       "404726        1\n",
       "787929        1\n",
       "223030        1\n",
       "1071512       1\n",
       "239406        1\n",
       "997325        1\n",
       "379154        1\n",
       "338190        1\n",
       "257102        1\n",
       "348983        1\n",
       "891424        1\n",
       "354566        1\n",
       "365359        1\n",
       "916012        1\n",
       "275227        1\n",
       "307979        1\n",
       "316167        1\n",
       "733947        1\n",
       "866868        1\n",
       "346370        1\n",
       "774887        1\n",
       "676567        1\n",
       "1086802       1\n",
       "Name: session_id, Length: 874584, dtype: int64"
      ]
     },
     "execution_count": 84,
     "metadata": {},
     "output_type": "execute_result"
    }
   ],
   "source": [
    "combined_train.session_id.value_counts()"
   ]
  },
  {
   "cell_type": "code",
   "execution_count": 14,
   "metadata": {},
   "outputs": [
    {
     "data": {
      "text/html": [
       "<div>\n",
       "<style>\n",
       "    .dataframe thead tr:only-child th {\n",
       "        text-align: right;\n",
       "    }\n",
       "\n",
       "    .dataframe thead th {\n",
       "        text-align: left;\n",
       "    }\n",
       "\n",
       "    .dataframe tbody tr th {\n",
       "        vertical-align: top;\n",
       "    }\n",
       "</style>\n",
       "<table border=\"1\" class=\"dataframe\">\n",
       "  <thead>\n",
       "    <tr style=\"text-align: right;\">\n",
       "      <th></th>\n",
       "      <th>impression_id</th>\n",
       "      <th>impression_time</th>\n",
       "      <th>user_id</th>\n",
       "      <th>app_code</th>\n",
       "      <th>os_version</th>\n",
       "      <th>is_4G</th>\n",
       "      <th>is_click</th>\n",
       "      <th>server_time</th>\n",
       "      <th>device_type</th>\n",
       "      <th>session_id</th>\n",
       "      <th>item_id</th>\n",
       "      <th>item_price</th>\n",
       "      <th>category_1</th>\n",
       "      <th>category_2</th>\n",
       "      <th>category_3</th>\n",
       "      <th>product_type</th>\n",
       "    </tr>\n",
       "  </thead>\n",
       "  <tbody>\n",
       "    <tr>\n",
       "      <th>0</th>\n",
       "      <td>c4ca4238a0b923820dcc509a6f75849b</td>\n",
       "      <td>2018-11-15 00:00:00</td>\n",
       "      <td>87862</td>\n",
       "      <td>422</td>\n",
       "      <td>old</td>\n",
       "      <td>0</td>\n",
       "      <td>0</td>\n",
       "      <td>2018-10-19 18:11:00</td>\n",
       "      <td>android</td>\n",
       "      <td>190710</td>\n",
       "      <td>43886</td>\n",
       "      <td>2350</td>\n",
       "      <td>11</td>\n",
       "      <td>35</td>\n",
       "      <td>20</td>\n",
       "      <td>5622</td>\n",
       "    </tr>\n",
       "    <tr>\n",
       "      <th>1</th>\n",
       "      <td>621bf66ddb7c962aa0d22ac97d69b793</td>\n",
       "      <td>2018-11-15 00:19:00</td>\n",
       "      <td>87862</td>\n",
       "      <td>422</td>\n",
       "      <td>old</td>\n",
       "      <td>0</td>\n",
       "      <td>0</td>\n",
       "      <td>2018-10-19 18:11:00</td>\n",
       "      <td>android</td>\n",
       "      <td>190710</td>\n",
       "      <td>43886</td>\n",
       "      <td>2350</td>\n",
       "      <td>11</td>\n",
       "      <td>35</td>\n",
       "      <td>20</td>\n",
       "      <td>5622</td>\n",
       "    </tr>\n",
       "    <tr>\n",
       "      <th>2</th>\n",
       "      <td>ab394288aed46588bdc90bf4b541ec0d</td>\n",
       "      <td>2018-11-16 17:29:00</td>\n",
       "      <td>87862</td>\n",
       "      <td>422</td>\n",
       "      <td>old</td>\n",
       "      <td>0</td>\n",
       "      <td>0</td>\n",
       "      <td>2018-10-19 18:11:00</td>\n",
       "      <td>android</td>\n",
       "      <td>190710</td>\n",
       "      <td>43886</td>\n",
       "      <td>2350</td>\n",
       "      <td>11</td>\n",
       "      <td>35</td>\n",
       "      <td>20</td>\n",
       "      <td>5622</td>\n",
       "    </tr>\n",
       "    <tr>\n",
       "      <th>3</th>\n",
       "      <td>372d3f309fef061977fb2f7ba36d74d2</td>\n",
       "      <td>2018-11-15 06:11:00</td>\n",
       "      <td>85131</td>\n",
       "      <td>207</td>\n",
       "      <td>latest</td>\n",
       "      <td>1</td>\n",
       "      <td>0</td>\n",
       "      <td>2018-10-15 13:25:00</td>\n",
       "      <td>android</td>\n",
       "      <td>663666</td>\n",
       "      <td>43886</td>\n",
       "      <td>2350</td>\n",
       "      <td>11</td>\n",
       "      <td>35</td>\n",
       "      <td>20</td>\n",
       "      <td>5622</td>\n",
       "    </tr>\n",
       "    <tr>\n",
       "      <th>4</th>\n",
       "      <td>372d3f309fef061977fb2f7ba36d74d2</td>\n",
       "      <td>2018-11-15 06:11:00</td>\n",
       "      <td>85131</td>\n",
       "      <td>207</td>\n",
       "      <td>latest</td>\n",
       "      <td>1</td>\n",
       "      <td>0</td>\n",
       "      <td>2018-11-27 11:30:00</td>\n",
       "      <td>android</td>\n",
       "      <td>846052</td>\n",
       "      <td>43886</td>\n",
       "      <td>2350</td>\n",
       "      <td>11</td>\n",
       "      <td>35</td>\n",
       "      <td>20</td>\n",
       "      <td>5622</td>\n",
       "    </tr>\n",
       "  </tbody>\n",
       "</table>\n",
       "</div>"
      ],
      "text/plain": [
       "                      impression_id      impression_time  user_id  app_code  \\\n",
       "0  c4ca4238a0b923820dcc509a6f75849b  2018-11-15 00:00:00    87862       422   \n",
       "1  621bf66ddb7c962aa0d22ac97d69b793  2018-11-15 00:19:00    87862       422   \n",
       "2  ab394288aed46588bdc90bf4b541ec0d  2018-11-16 17:29:00    87862       422   \n",
       "3  372d3f309fef061977fb2f7ba36d74d2  2018-11-15 06:11:00    85131       207   \n",
       "4  372d3f309fef061977fb2f7ba36d74d2  2018-11-15 06:11:00    85131       207   \n",
       "\n",
       "  os_version  is_4G  is_click          server_time device_type  session_id  \\\n",
       "0        old      0         0  2018-10-19 18:11:00     android      190710   \n",
       "1        old      0         0  2018-10-19 18:11:00     android      190710   \n",
       "2        old      0         0  2018-10-19 18:11:00     android      190710   \n",
       "3     latest      1         0  2018-10-15 13:25:00     android      663666   \n",
       "4     latest      1         0  2018-11-27 11:30:00     android      846052   \n",
       "\n",
       "   item_id  item_price  category_1  category_2  category_3  product_type  \n",
       "0    43886        2350          11          35          20          5622  \n",
       "1    43886        2350          11          35          20          5622  \n",
       "2    43886        2350          11          35          20          5622  \n",
       "3    43886        2350          11          35          20          5622  \n",
       "4    43886        2350          11          35          20          5622  "
      ]
     },
     "execution_count": 14,
     "metadata": {},
     "output_type": "execute_result"
    }
   ],
   "source": [
    "df.head()"
   ]
  },
  {
   "cell_type": "code",
   "execution_count": 15,
   "metadata": {
    "collapsed": true
   },
   "outputs": [],
   "source": [
    "import datetime"
   ]
  },
  {
   "cell_type": "code",
   "execution_count": 16,
   "metadata": {
    "collapsed": true
   },
   "outputs": [],
   "source": [
    "df['impression_time'] = pd.to_datetime(df['impression_time'])\n",
    "df['server_time'] = pd.to_datetime(df['server_time'])\n"
   ]
  },
  {
   "cell_type": "code",
   "execution_count": 18,
   "metadata": {
    "collapsed": true
   },
   "outputs": [],
   "source": [
    "df['responsetime'] = (df['impression_time']-df['server_time']).dt.days"
   ]
  },
  {
   "cell_type": "code",
   "execution_count": 29,
   "metadata": {},
   "outputs": [],
   "source": [
    "df['link']=(df.responsetime>=0).astype(int)"
   ]
  },
  {
   "cell_type": "code",
   "execution_count": 51,
   "metadata": {},
   "outputs": [],
   "source": [
    "df_01=df.drop(['server_time','impression_time','session_id','user_id','item_id'],axis=1)"
   ]
  },
  {
   "cell_type": "code",
   "execution_count": 52,
   "metadata": {},
   "outputs": [
    {
     "data": {
      "text/html": [
       "<div>\n",
       "<style>\n",
       "    .dataframe thead tr:only-child th {\n",
       "        text-align: right;\n",
       "    }\n",
       "\n",
       "    .dataframe thead th {\n",
       "        text-align: left;\n",
       "    }\n",
       "\n",
       "    .dataframe tbody tr th {\n",
       "        vertical-align: top;\n",
       "    }\n",
       "</style>\n",
       "<table border=\"1\" class=\"dataframe\">\n",
       "  <thead>\n",
       "    <tr style=\"text-align: right;\">\n",
       "      <th></th>\n",
       "      <th>impression_id</th>\n",
       "      <th>app_code</th>\n",
       "      <th>os_version</th>\n",
       "      <th>is_4G</th>\n",
       "      <th>is_click</th>\n",
       "      <th>device_type</th>\n",
       "      <th>item_price</th>\n",
       "      <th>category_1</th>\n",
       "      <th>category_2</th>\n",
       "      <th>category_3</th>\n",
       "      <th>product_type</th>\n",
       "      <th>responsetime</th>\n",
       "      <th>link</th>\n",
       "    </tr>\n",
       "  </thead>\n",
       "  <tbody>\n",
       "    <tr>\n",
       "      <th>0</th>\n",
       "      <td>c4ca4238a0b923820dcc509a6f75849b</td>\n",
       "      <td>422</td>\n",
       "      <td>old</td>\n",
       "      <td>0</td>\n",
       "      <td>0</td>\n",
       "      <td>android</td>\n",
       "      <td>2350</td>\n",
       "      <td>11</td>\n",
       "      <td>35</td>\n",
       "      <td>20</td>\n",
       "      <td>5622</td>\n",
       "      <td>26</td>\n",
       "      <td>1</td>\n",
       "    </tr>\n",
       "    <tr>\n",
       "      <th>1</th>\n",
       "      <td>621bf66ddb7c962aa0d22ac97d69b793</td>\n",
       "      <td>422</td>\n",
       "      <td>old</td>\n",
       "      <td>0</td>\n",
       "      <td>0</td>\n",
       "      <td>android</td>\n",
       "      <td>2350</td>\n",
       "      <td>11</td>\n",
       "      <td>35</td>\n",
       "      <td>20</td>\n",
       "      <td>5622</td>\n",
       "      <td>26</td>\n",
       "      <td>1</td>\n",
       "    </tr>\n",
       "    <tr>\n",
       "      <th>2</th>\n",
       "      <td>ab394288aed46588bdc90bf4b541ec0d</td>\n",
       "      <td>422</td>\n",
       "      <td>old</td>\n",
       "      <td>0</td>\n",
       "      <td>0</td>\n",
       "      <td>android</td>\n",
       "      <td>2350</td>\n",
       "      <td>11</td>\n",
       "      <td>35</td>\n",
       "      <td>20</td>\n",
       "      <td>5622</td>\n",
       "      <td>27</td>\n",
       "      <td>1</td>\n",
       "    </tr>\n",
       "    <tr>\n",
       "      <th>3</th>\n",
       "      <td>372d3f309fef061977fb2f7ba36d74d2</td>\n",
       "      <td>207</td>\n",
       "      <td>latest</td>\n",
       "      <td>1</td>\n",
       "      <td>0</td>\n",
       "      <td>android</td>\n",
       "      <td>2350</td>\n",
       "      <td>11</td>\n",
       "      <td>35</td>\n",
       "      <td>20</td>\n",
       "      <td>5622</td>\n",
       "      <td>30</td>\n",
       "      <td>1</td>\n",
       "    </tr>\n",
       "    <tr>\n",
       "      <th>4</th>\n",
       "      <td>372d3f309fef061977fb2f7ba36d74d2</td>\n",
       "      <td>207</td>\n",
       "      <td>latest</td>\n",
       "      <td>1</td>\n",
       "      <td>0</td>\n",
       "      <td>android</td>\n",
       "      <td>2350</td>\n",
       "      <td>11</td>\n",
       "      <td>35</td>\n",
       "      <td>20</td>\n",
       "      <td>5622</td>\n",
       "      <td>-13</td>\n",
       "      <td>0</td>\n",
       "    </tr>\n",
       "  </tbody>\n",
       "</table>\n",
       "</div>"
      ],
      "text/plain": [
       "                      impression_id  app_code os_version  is_4G  is_click  \\\n",
       "0  c4ca4238a0b923820dcc509a6f75849b       422        old      0         0   \n",
       "1  621bf66ddb7c962aa0d22ac97d69b793       422        old      0         0   \n",
       "2  ab394288aed46588bdc90bf4b541ec0d       422        old      0         0   \n",
       "3  372d3f309fef061977fb2f7ba36d74d2       207     latest      1         0   \n",
       "4  372d3f309fef061977fb2f7ba36d74d2       207     latest      1         0   \n",
       "\n",
       "  device_type  item_price  category_1  category_2  category_3  product_type  \\\n",
       "0     android        2350          11          35          20          5622   \n",
       "1     android        2350          11          35          20          5622   \n",
       "2     android        2350          11          35          20          5622   \n",
       "3     android        2350          11          35          20          5622   \n",
       "4     android        2350          11          35          20          5622   \n",
       "\n",
       "   responsetime  link  \n",
       "0            26     1  \n",
       "1            26     1  \n",
       "2            27     1  \n",
       "3            30     1  \n",
       "4           -13     0  "
      ]
     },
     "execution_count": 52,
     "metadata": {},
     "output_type": "execute_result"
    }
   ],
   "source": [
    "df_01.head()"
   ]
  },
  {
   "cell_type": "code",
   "execution_count": 56,
   "metadata": {},
   "outputs": [
    {
     "data": {
      "text/plain": [
       "<matplotlib.axes._subplots.AxesSubplot at 0x2c407b8d0b8>"
      ]
     },
     "execution_count": 56,
     "metadata": {},
     "output_type": "execute_result"
    },
    {
     "data": {
      "image/png": "[encoded data removed]",
      "text/plain": [
       "<matplotlib.figure.Figure at 0x2c4077e7be0>"
      ]
     },
     "metadata": {},
     "output_type": "display_data"
    }
   ],
   "source": [
    "df_01.is_click.value_counts().plot(kind='bar')"
   ]
  },
  {
   "cell_type": "code",
   "execution_count": 58,
   "metadata": {},
   "outputs": [
    {
     "data": {
      "text/plain": [
       "<matplotlib.axes._subplots.AxesSubplot at 0x2c408bf6208>"
      ]
     },
     "execution_count": 58,
     "metadata": {},
     "output_type": "execute_result"
    },
    {
     "data": {
      "image/png": "[encoded data removed]",
      "text/plain": [
       "<matplotlib.figure.Figure at 0x2c70e01cb00>"
      ]
     },
     "metadata": {},
     "output_type": "display_data"
    }
   ],
   "source": [
    "sns.countplot(y='is_4G',data=df_01,hue='is_click')\n"
   ]
  },
  {
   "cell_type": "code",
   "execution_count": 61,
   "metadata": {},
   "outputs": [
    {
     "data": {
      "text/plain": [
       "<matplotlib.axes._subplots.AxesSubplot at 0x2c407bc9668>"
      ]
     },
     "execution_count": 61,
     "metadata": {},
     "output_type": "execute_result"
    },
    {
     "data": {
      "image/png": "[encoded data removed]",
      "text/plain": [
       "<matplotlib.figure.Figure at 0x2c408c63080>"
      ]
     },
     "metadata": {},
     "output_type": "display_data"
    }
   ],
   "source": [
    "sns.countplot(y='os_version',data=df_01,hue='is_click')"
   ]
  },
  {
   "cell_type": "code",
   "execution_count": 59,
   "metadata": {},
   "outputs": [
    {
     "data": {
      "text/plain": [
       "<matplotlib.axes._subplots.AxesSubplot at 0x2c408d29198>"
      ]
     },
     "execution_count": 59,
     "metadata": {},
     "output_type": "execute_result"
    },
    {
     "data": {
      "image/png": "[encoded data removed]",
      "text/plain": [
       "<matplotlib.figure.Figure at 0x2c408c08e80>"
      ]
     },
     "metadata": {},
     "output_type": "display_data"
    }
   ],
   "source": [
    "sns.countplot(y='device_type',data=df_01,hue='is_click')\n"
   ]
  },
  {
   "cell_type": "code",
   "execution_count": 60,
   "metadata": {},
   "outputs": [
    {
     "data": {
      "text/plain": [
       "device_type  is_click\n",
       "android      0           10382005\n",
       "             1             661043\n",
       "iphone       0               2739\n",
       "             1                136\n",
       "web          0                109\n",
       "             1                  7\n",
       "Name: is_click, dtype: int64"
      ]
     },
     "execution_count": 60,
     "metadata": {},
     "output_type": "execute_result"
    }
   ],
   "source": [
    "df_01.groupby('device_type').is_click.value_counts()"
   ]
  },
  {
   "cell_type": "code",
   "execution_count": 42,
   "metadata": {},
   "outputs": [
    {
     "data": {
      "text/plain": [
       "os_version    is_click\n",
       "intermediate  0           2634720\n",
       "              1            198711\n",
       "latest        0           5471494\n",
       "              1            308746\n",
       "old           0           2278639\n",
       "              1            153729\n",
       "Name: is_click, dtype: int64"
      ]
     },
     "execution_count": 42,
     "metadata": {},
     "output_type": "execute_result"
    }
   ],
   "source": [
    "df_01.groupby('os_version').is_click.value_counts()"
   ]
  },
  {
   "cell_type": "code",
   "execution_count": 45,
   "metadata": {},
   "outputs": [
    {
     "data": {
      "image/png": "[encoded data removed]",
      "text/plain": [
       "<matplotlib.figure.Figure at 0x2c404fefe48>"
      ]
     },
     "metadata": {},
     "output_type": "display_data"
    }
   ],
   "source": [
    "plt.figure(figsize=(13,8))\n",
    "corre=df_01.corr()\n",
    "sns.heatmap(corre*100,annot=True,fmt='.0f')\n",
    "plt.show()"
   ]
  },
  {
   "cell_type": "code",
   "execution_count": null,
   "metadata": {
    "collapsed": true
   },
   "outputs": [],
   "source": [
    "# Scatterplot of satisfaction vs. last_evaluation\n",
    "sns.lmplot(x='link', y='is_click', data=df_01, fit_reg=False)"
   ]
  },
  {
   "cell_type": "code",
   "execution_count": 46,
   "metadata": {},
   "outputs": [
    {
     "data": {
      "text/html": [
       "<div>\n",
       "<style>\n",
       "    .dataframe thead tr:only-child th {\n",
       "        text-align: right;\n",
       "    }\n",
       "\n",
       "    .dataframe thead th {\n",
       "        text-align: left;\n",
       "    }\n",
       "\n",
       "    .dataframe tbody tr th {\n",
       "        vertical-align: top;\n",
       "    }\n",
       "</style>\n",
       "<table border=\"1\" class=\"dataframe\">\n",
       "  <thead>\n",
       "    <tr style=\"text-align: right;\">\n",
       "      <th></th>\n",
       "      <th>impression_id</th>\n",
       "      <th>impression_time</th>\n",
       "      <th>user_id</th>\n",
       "      <th>app_code</th>\n",
       "      <th>os_version</th>\n",
       "      <th>is_4G</th>\n",
       "      <th>is_click</th>\n",
       "      <th>server_time</th>\n",
       "      <th>device_type</th>\n",
       "      <th>item_id</th>\n",
       "      <th>item_price</th>\n",
       "      <th>category_1</th>\n",
       "      <th>category_2</th>\n",
       "      <th>category_3</th>\n",
       "      <th>product_type</th>\n",
       "      <th>responsetime</th>\n",
       "      <th>link</th>\n",
       "    </tr>\n",
       "  </thead>\n",
       "  <tbody>\n",
       "    <tr>\n",
       "      <th>0</th>\n",
       "      <td>c4ca4238a0b923820dcc509a6f75849b</td>\n",
       "      <td>2018-11-15 00:00:00</td>\n",
       "      <td>87862</td>\n",
       "      <td>422</td>\n",
       "      <td>old</td>\n",
       "      <td>0</td>\n",
       "      <td>0</td>\n",
       "      <td>2018-10-19 18:11:00</td>\n",
       "      <td>android</td>\n",
       "      <td>43886</td>\n",
       "      <td>2350</td>\n",
       "      <td>11</td>\n",
       "      <td>35</td>\n",
       "      <td>20</td>\n",
       "      <td>5622</td>\n",
       "      <td>26</td>\n",
       "      <td>1</td>\n",
       "    </tr>\n",
       "    <tr>\n",
       "      <th>1</th>\n",
       "      <td>621bf66ddb7c962aa0d22ac97d69b793</td>\n",
       "      <td>2018-11-15 00:19:00</td>\n",
       "      <td>87862</td>\n",
       "      <td>422</td>\n",
       "      <td>old</td>\n",
       "      <td>0</td>\n",
       "      <td>0</td>\n",
       "      <td>2018-10-19 18:11:00</td>\n",
       "      <td>android</td>\n",
       "      <td>43886</td>\n",
       "      <td>2350</td>\n",
       "      <td>11</td>\n",
       "      <td>35</td>\n",
       "      <td>20</td>\n",
       "      <td>5622</td>\n",
       "      <td>26</td>\n",
       "      <td>1</td>\n",
       "    </tr>\n",
       "    <tr>\n",
       "      <th>2</th>\n",
       "      <td>ab394288aed46588bdc90bf4b541ec0d</td>\n",
       "      <td>2018-11-16 17:29:00</td>\n",
       "      <td>87862</td>\n",
       "      <td>422</td>\n",
       "      <td>old</td>\n",
       "      <td>0</td>\n",
       "      <td>0</td>\n",
       "      <td>2018-10-19 18:11:00</td>\n",
       "      <td>android</td>\n",
       "      <td>43886</td>\n",
       "      <td>2350</td>\n",
       "      <td>11</td>\n",
       "      <td>35</td>\n",
       "      <td>20</td>\n",
       "      <td>5622</td>\n",
       "      <td>27</td>\n",
       "      <td>1</td>\n",
       "    </tr>\n",
       "    <tr>\n",
       "      <th>3</th>\n",
       "      <td>372d3f309fef061977fb2f7ba36d74d2</td>\n",
       "      <td>2018-11-15 06:11:00</td>\n",
       "      <td>85131</td>\n",
       "      <td>207</td>\n",
       "      <td>latest</td>\n",
       "      <td>1</td>\n",
       "      <td>0</td>\n",
       "      <td>2018-10-15 13:25:00</td>\n",
       "      <td>android</td>\n",
       "      <td>43886</td>\n",
       "      <td>2350</td>\n",
       "      <td>11</td>\n",
       "      <td>35</td>\n",
       "      <td>20</td>\n",
       "      <td>5622</td>\n",
       "      <td>30</td>\n",
       "      <td>1</td>\n",
       "    </tr>\n",
       "    <tr>\n",
       "      <th>4</th>\n",
       "      <td>372d3f309fef061977fb2f7ba36d74d2</td>\n",
       "      <td>2018-11-15 06:11:00</td>\n",
       "      <td>85131</td>\n",
       "      <td>207</td>\n",
       "      <td>latest</td>\n",
       "      <td>1</td>\n",
       "      <td>0</td>\n",
       "      <td>2018-11-27 11:30:00</td>\n",
       "      <td>android</td>\n",
       "      <td>43886</td>\n",
       "      <td>2350</td>\n",
       "      <td>11</td>\n",
       "      <td>35</td>\n",
       "      <td>20</td>\n",
       "      <td>5622</td>\n",
       "      <td>-13</td>\n",
       "      <td>0</td>\n",
       "    </tr>\n",
       "  </tbody>\n",
       "</table>\n",
       "</div>"
      ],
      "text/plain": [
       "                      impression_id     impression_time  user_id  app_code  \\\n",
       "0  c4ca4238a0b923820dcc509a6f75849b 2018-11-15 00:00:00    87862       422   \n",
       "1  621bf66ddb7c962aa0d22ac97d69b793 2018-11-15 00:19:00    87862       422   \n",
       "2  ab394288aed46588bdc90bf4b541ec0d 2018-11-16 17:29:00    87862       422   \n",
       "3  372d3f309fef061977fb2f7ba36d74d2 2018-11-15 06:11:00    85131       207   \n",
       "4  372d3f309fef061977fb2f7ba36d74d2 2018-11-15 06:11:00    85131       207   \n",
       "\n",
       "  os_version  is_4G  is_click         server_time device_type  item_id  \\\n",
       "0        old      0         0 2018-10-19 18:11:00     android    43886   \n",
       "1        old      0         0 2018-10-19 18:11:00     android    43886   \n",
       "2        old      0         0 2018-10-19 18:11:00     android    43886   \n",
       "3     latest      1         0 2018-10-15 13:25:00     android    43886   \n",
       "4     latest      1         0 2018-11-27 11:30:00     android    43886   \n",
       "\n",
       "   item_price  category_1  category_2  category_3  product_type  responsetime  \\\n",
       "0        2350          11          35          20          5622            26   \n",
       "1        2350          11          35          20          5622            26   \n",
       "2        2350          11          35          20          5622            27   \n",
       "3        2350          11          35          20          5622            30   \n",
       "4        2350          11          35          20          5622           -13   \n",
       "\n",
       "   link  \n",
       "0     1  \n",
       "1     1  \n",
       "2     1  \n",
       "3     1  \n",
       "4     0  "
      ]
     },
     "execution_count": 46,
     "metadata": {},
     "output_type": "execute_result"
    }
   ],
   "source": [
    "df_01.head()"
   ]
  },
  {
   "cell_type": "code",
   "execution_count": 62,
   "metadata": {},
   "outputs": [
    {
     "data": {
      "text/plain": [
       "<matplotlib.axes._subplots.AxesSubplot at 0x2c408e5f7f0>"
      ]
     },
     "execution_count": 62,
     "metadata": {},
     "output_type": "execute_result"
    },
    {
     "data": {
      "image/png": "[encoded data removed]",
      "text/plain": [
       "<matplotlib.figure.Figure at 0x2c408d6a588>"
      ]
     },
     "metadata": {},
     "output_type": "display_data"
    }
   ],
   "source": [
    "sns.violinplot(y='is_click',x='item_price',data=df_01)"
   ]
  },
  {
   "cell_type": "code",
   "execution_count": 82,
   "metadata": {
    "collapsed": true
   },
   "outputs": [],
   "source": []
  },
  {
   "cell_type": "code",
   "execution_count": 83,
   "metadata": {},
   "outputs": [
    {
     "data": {
      "text/html": [
       "<div>\n",
       "<style>\n",
       "    .dataframe thead tr:only-child th {\n",
       "        text-align: right;\n",
       "    }\n",
       "\n",
       "    .dataframe thead th {\n",
       "        text-align: left;\n",
       "    }\n",
       "\n",
       "    .dataframe tbody tr th {\n",
       "        vertical-align: top;\n",
       "    }\n",
       "</style>\n",
       "<table border=\"1\" class=\"dataframe\">\n",
       "  <thead>\n",
       "    <tr style=\"text-align: right;\">\n",
       "      <th></th>\n",
       "      <th>app_code</th>\n",
       "      <th>os_version</th>\n",
       "      <th>is_4G</th>\n",
       "      <th>is_click</th>\n",
       "      <th>device_type</th>\n",
       "      <th>item_price</th>\n",
       "      <th>category_1</th>\n",
       "      <th>category_2</th>\n",
       "      <th>category_3</th>\n",
       "      <th>product_type</th>\n",
       "      <th>responsetime</th>\n",
       "      <th>link</th>\n",
       "    </tr>\n",
       "  </thead>\n",
       "  <tbody>\n",
       "    <tr>\n",
       "      <th>0</th>\n",
       "      <td>422</td>\n",
       "      <td>old</td>\n",
       "      <td>0</td>\n",
       "      <td>0</td>\n",
       "      <td>android</td>\n",
       "      <td>2350</td>\n",
       "      <td>11</td>\n",
       "      <td>35</td>\n",
       "      <td>20</td>\n",
       "      <td>5622</td>\n",
       "      <td>26</td>\n",
       "      <td>1</td>\n",
       "    </tr>\n",
       "    <tr>\n",
       "      <th>1</th>\n",
       "      <td>422</td>\n",
       "      <td>old</td>\n",
       "      <td>0</td>\n",
       "      <td>0</td>\n",
       "      <td>android</td>\n",
       "      <td>2350</td>\n",
       "      <td>11</td>\n",
       "      <td>35</td>\n",
       "      <td>20</td>\n",
       "      <td>5622</td>\n",
       "      <td>26</td>\n",
       "      <td>1</td>\n",
       "    </tr>\n",
       "    <tr>\n",
       "      <th>2</th>\n",
       "      <td>422</td>\n",
       "      <td>old</td>\n",
       "      <td>0</td>\n",
       "      <td>0</td>\n",
       "      <td>android</td>\n",
       "      <td>2350</td>\n",
       "      <td>11</td>\n",
       "      <td>35</td>\n",
       "      <td>20</td>\n",
       "      <td>5622</td>\n",
       "      <td>27</td>\n",
       "      <td>1</td>\n",
       "    </tr>\n",
       "    <tr>\n",
       "      <th>3</th>\n",
       "      <td>207</td>\n",
       "      <td>latest</td>\n",
       "      <td>1</td>\n",
       "      <td>0</td>\n",
       "      <td>android</td>\n",
       "      <td>2350</td>\n",
       "      <td>11</td>\n",
       "      <td>35</td>\n",
       "      <td>20</td>\n",
       "      <td>5622</td>\n",
       "      <td>30</td>\n",
       "      <td>1</td>\n",
       "    </tr>\n",
       "    <tr>\n",
       "      <th>4</th>\n",
       "      <td>207</td>\n",
       "      <td>latest</td>\n",
       "      <td>1</td>\n",
       "      <td>0</td>\n",
       "      <td>android</td>\n",
       "      <td>2350</td>\n",
       "      <td>11</td>\n",
       "      <td>35</td>\n",
       "      <td>20</td>\n",
       "      <td>5622</td>\n",
       "      <td>-13</td>\n",
       "      <td>0</td>\n",
       "    </tr>\n",
       "  </tbody>\n",
       "</table>\n",
       "</div>"
      ],
      "text/plain": [
       "   app_code os_version  is_4G  is_click device_type  item_price  category_1  \\\n",
       "0       422        old      0         0     android        2350          11   \n",
       "1       422        old      0         0     android        2350          11   \n",
       "2       422        old      0         0     android        2350          11   \n",
       "3       207     latest      1         0     android        2350          11   \n",
       "4       207     latest      1         0     android        2350          11   \n",
       "\n",
       "   category_2  category_3  product_type  responsetime  link  \n",
       "0          35          20          5622            26     1  \n",
       "1          35          20          5622            26     1  \n",
       "2          35          20          5622            27     1  \n",
       "3          35          20          5622            30     1  \n",
       "4          35          20          5622           -13     0  "
      ]
     },
     "execution_count": 83,
     "metadata": {},
     "output_type": "execute_result"
    }
   ],
   "source": [
    "df_01.head()"
   ]
  },
  {
   "cell_type": "code",
   "execution_count": 87,
   "metadata": {},
   "outputs": [],
   "source": [
    "df['app_code']=df['app_code'].astype('object')\n",
    "df['product_type']=df['product_type'].astype('object')\n"
   ]
  },
  {
   "cell_type": "code",
   "execution_count": 89,
   "metadata": {
    "collapsed": true
   },
   "outputs": [],
   "source": [
    "df_01=df.drop('impression_id',axis=1)"
   ]
  },
  {
   "cell_type": "code",
   "execution_count": 90,
   "metadata": {},
   "outputs": [
    {
     "name": "stdout",
     "output_type": "stream",
     "text": [
      "<class 'pandas.core.frame.DataFrame'>\n",
      "Int64Index: 11046039 entries, 0 to 11046038\n",
      "Data columns (total 12 columns):\n",
      "app_code        object\n",
      "os_version      object\n",
      "is_4G           int64\n",
      "is_click        int64\n",
      "device_type     object\n",
      "item_price      int64\n",
      "category_1      int64\n",
      "category_2      int64\n",
      "category_3      int64\n",
      "product_type    object\n",
      "responsetime    int64\n",
      "link            int32\n",
      "dtypes: int32(1), int64(7), object(4)\n",
      "memory usage: 1.3+ GB\n"
     ]
    }
   ],
   "source": [
    "df_01.info()"
   ]
  },
  {
   "cell_type": "code",
   "execution_count": 92,
   "metadata": {},
   "outputs": [
    {
     "data": {
      "text/plain": [
       "app_code        0\n",
       "os_version      0\n",
       "is_4G           0\n",
       "is_click        0\n",
       "device_type     0\n",
       "item_price      0\n",
       "category_1      0\n",
       "category_2      0\n",
       "category_3      0\n",
       "product_type    0\n",
       "responsetime    0\n",
       "link            0\n",
       "dtype: int64"
      ]
     },
     "execution_count": 92,
     "metadata": {},
     "output_type": "execute_result"
    }
   ],
   "source": [
    "df_01.isnull().sum()"
   ]
  },
  {
   "cell_type": "code",
   "execution_count": 107,
   "metadata": {},
   "outputs": [
    {
     "data": {
      "text/plain": [
       "app_code        object\n",
       "os_version      object\n",
       "is_4G            int64\n",
       "is_click         int64\n",
       "device_type     object\n",
       "item_price       int64\n",
       "category_1       int64\n",
       "category_2       int64\n",
       "category_3       int64\n",
       "product_type    object\n",
       "responsetime     int64\n",
       "link             int32\n",
       "dtype: object"
      ]
     },
     "execution_count": 107,
     "metadata": {},
     "output_type": "execute_result"
    }
   ],
   "source": [
    "df_01.dtypes"
   ]
  },
  {
   "cell_type": "code",
   "execution_count": 109,
   "metadata": {},
   "outputs": [
    {
     "data": {
      "text/plain": [
       "app_code        0\n",
       "os_version      0\n",
       "is_4G           0\n",
       "is_click        0\n",
       "device_type     0\n",
       "item_price      0\n",
       "category_1      0\n",
       "category_2      0\n",
       "category_3      0\n",
       "product_type    0\n",
       "responsetime    0\n",
       "link            0\n",
       "dtype: int64"
      ]
     },
     "execution_count": 109,
     "metadata": {},
     "output_type": "execute_result"
    }
   ],
   "source": [
    "df_01.isnull().sum()"
   ]
  },
  {
   "cell_type": "code",
   "execution_count": 113,
   "metadata": {},
   "outputs": [],
   "source": [
    "df_01=df[['app_code','os_version', 'device_type','product_type']]"
   ]
  },
  {
   "cell_type": "code",
   "execution_count": 119,
   "metadata": {},
   "outputs": [
    {
     "data": {
      "text/plain": [
       "app_code        object\n",
       "os_version      object\n",
       "device_type     object\n",
       "product_type    object\n",
       "dtype: object"
      ]
     },
     "execution_count": 119,
     "metadata": {},
     "output_type": "execute_result"
    }
   ],
   "source": [
    "df_01.dtypes"
   ]
  },
  {
   "cell_type": "code",
   "execution_count": 115,
   "metadata": {},
   "outputs": [],
   "source": [
    "from sklearn import preprocessing\n",
    "#Label encoding\n",
    "le = preprocessing.LabelEncoder()\n"
   ]
  },
  {
   "cell_type": "code",
   "execution_count": 120,
   "metadata": {},
   "outputs": [],
   "source": [
    "df_001= df.apply(le.fit_transform)"
   ]
  },
  {
   "cell_type": "code",
   "execution_count": 125,
   "metadata": {},
   "outputs": [
    {
     "data": {
      "text/plain": [
       "impression_id    object\n",
       "app_code         object\n",
       "os_version       object\n",
       "is_4G             int64\n",
       "is_click          int64\n",
       "device_type      object\n",
       "item_price        int64\n",
       "category_1        int64\n",
       "category_2        int64\n",
       "category_3        int64\n",
       "product_type     object\n",
       "responsetime      int64\n",
       "link              int32\n",
       "dtype: object"
      ]
     },
     "execution_count": 125,
     "metadata": {},
     "output_type": "execute_result"
    }
   ],
   "source": [
    "df.dtypes"
   ]
  },
  {
   "cell_type": "code",
   "execution_count": 129,
   "metadata": {},
   "outputs": [
    {
     "ename": "ValueError",
     "evalue": "could not convert string to float: 'android'",
     "output_type": "error",
     "traceback": [
      "\u001b[1;31m---------------------------------------------------------------------------\u001b[0m",
      "\u001b[1;31mValueError\u001b[0m                                Traceback (most recent call last)",
      "\u001b[1;32m<ipython-input-129-996e502bc801>\u001b[0m in \u001b[0;36m<module>\u001b[1;34m()\u001b[0m\n\u001b[0;32m      1\u001b[0m \u001b[1;32mfrom\u001b[0m \u001b[0msklearn\u001b[0m\u001b[1;33m.\u001b[0m\u001b[0mpreprocessing\u001b[0m \u001b[1;32mimport\u001b[0m \u001b[0mOneHotEncoder\u001b[0m\u001b[1;33m\u001b[0m\u001b[0m\n\u001b[0;32m      2\u001b[0m \u001b[0monehotencoder\u001b[0m \u001b[1;33m=\u001b[0m \u001b[0mOneHotEncoder\u001b[0m\u001b[1;33m(\u001b[0m\u001b[0mcategorical_features\u001b[0m \u001b[1;33m=\u001b[0m \u001b[1;33m[\u001b[0m\u001b[1;34m'device_type'\u001b[0m\u001b[1;33m]\u001b[0m\u001b[1;33m)\u001b[0m\u001b[1;33m\u001b[0m\u001b[0m\n\u001b[1;32m----> 3\u001b[1;33m \u001b[0mdf_0003\u001b[0m\u001b[1;33m=\u001b[0m \u001b[0monehotencoder\u001b[0m\u001b[1;33m.\u001b[0m\u001b[0mfit_transform\u001b[0m\u001b[1;33m(\u001b[0m\u001b[0mdf\u001b[0m\u001b[1;33m)\u001b[0m\u001b[1;33m.\u001b[0m\u001b[0mtoarray\u001b[0m\u001b[1;33m(\u001b[0m\u001b[1;33m)\u001b[0m\u001b[1;33m\u001b[0m\u001b[0m\n\u001b[0m",
      "\u001b[1;32mC:\\ProgramData\\Anaconda3\\lib\\site-packages\\sklearn\\preprocessing\\data.py\u001b[0m in \u001b[0;36mfit_transform\u001b[1;34m(self, X, y)\u001b[0m\n\u001b[0;32m   1900\u001b[0m         \"\"\"\n\u001b[0;32m   1901\u001b[0m         return _transform_selected(X, self._fit_transform,\n\u001b[1;32m-> 1902\u001b[1;33m                                    self.categorical_features, copy=True)\n\u001b[0m\u001b[0;32m   1903\u001b[0m \u001b[1;33m\u001b[0m\u001b[0m\n\u001b[0;32m   1904\u001b[0m     \u001b[1;32mdef\u001b[0m \u001b[0m_transform\u001b[0m\u001b[1;33m(\u001b[0m\u001b[0mself\u001b[0m\u001b[1;33m,\u001b[0m \u001b[0mX\u001b[0m\u001b[1;33m)\u001b[0m\u001b[1;33m:\u001b[0m\u001b[1;33m\u001b[0m\u001b[0m\n",
      "\u001b[1;32mC:\\ProgramData\\Anaconda3\\lib\\site-packages\\sklearn\\preprocessing\\data.py\u001b[0m in \u001b[0;36m_transform_selected\u001b[1;34m(X, transform, selected, copy)\u001b[0m\n\u001b[0;32m   1695\u001b[0m     \u001b[0mX\u001b[0m \u001b[1;33m:\u001b[0m \u001b[0marray\u001b[0m \u001b[1;32mor\u001b[0m \u001b[0msparse\u001b[0m \u001b[0mmatrix\u001b[0m\u001b[1;33m,\u001b[0m \u001b[0mshape\u001b[0m\u001b[1;33m=\u001b[0m\u001b[1;33m(\u001b[0m\u001b[0mn_samples\u001b[0m\u001b[1;33m,\u001b[0m \u001b[0mn_features_new\u001b[0m\u001b[1;33m)\u001b[0m\u001b[1;33m\u001b[0m\u001b[0m\n\u001b[0;32m   1696\u001b[0m     \"\"\"\n\u001b[1;32m-> 1697\u001b[1;33m     \u001b[0mX\u001b[0m \u001b[1;33m=\u001b[0m \u001b[0mcheck_array\u001b[0m\u001b[1;33m(\u001b[0m\u001b[0mX\u001b[0m\u001b[1;33m,\u001b[0m \u001b[0maccept_sparse\u001b[0m\u001b[1;33m=\u001b[0m\u001b[1;34m'csc'\u001b[0m\u001b[1;33m,\u001b[0m \u001b[0mcopy\u001b[0m\u001b[1;33m=\u001b[0m\u001b[0mcopy\u001b[0m\u001b[1;33m,\u001b[0m \u001b[0mdtype\u001b[0m\u001b[1;33m=\u001b[0m\u001b[0mFLOAT_DTYPES\u001b[0m\u001b[1;33m)\u001b[0m\u001b[1;33m\u001b[0m\u001b[0m\n\u001b[0m\u001b[0;32m   1698\u001b[0m \u001b[1;33m\u001b[0m\u001b[0m\n\u001b[0;32m   1699\u001b[0m     \u001b[1;32mif\u001b[0m \u001b[0misinstance\u001b[0m\u001b[1;33m(\u001b[0m\u001b[0mselected\u001b[0m\u001b[1;33m,\u001b[0m \u001b[0msix\u001b[0m\u001b[1;33m.\u001b[0m\u001b[0mstring_types\u001b[0m\u001b[1;33m)\u001b[0m \u001b[1;32mand\u001b[0m \u001b[0mselected\u001b[0m \u001b[1;33m==\u001b[0m \u001b[1;34m\"all\"\u001b[0m\u001b[1;33m:\u001b[0m\u001b[1;33m\u001b[0m\u001b[0m\n",
      "\u001b[1;32mC:\\ProgramData\\Anaconda3\\lib\\site-packages\\sklearn\\utils\\validation.py\u001b[0m in \u001b[0;36mcheck_array\u001b[1;34m(array, accept_sparse, dtype, order, copy, force_all_finite, ensure_2d, allow_nd, ensure_min_samples, ensure_min_features, warn_on_dtype, estimator)\u001b[0m\n\u001b[0;32m    380\u001b[0m                                       force_all_finite)\n\u001b[0;32m    381\u001b[0m     \u001b[1;32melse\u001b[0m\u001b[1;33m:\u001b[0m\u001b[1;33m\u001b[0m\u001b[0m\n\u001b[1;32m--> 382\u001b[1;33m         \u001b[0marray\u001b[0m \u001b[1;33m=\u001b[0m \u001b[0mnp\u001b[0m\u001b[1;33m.\u001b[0m\u001b[0marray\u001b[0m\u001b[1;33m(\u001b[0m\u001b[0marray\u001b[0m\u001b[1;33m,\u001b[0m \u001b[0mdtype\u001b[0m\u001b[1;33m=\u001b[0m\u001b[0mdtype\u001b[0m\u001b[1;33m,\u001b[0m \u001b[0morder\u001b[0m\u001b[1;33m=\u001b[0m\u001b[0morder\u001b[0m\u001b[1;33m,\u001b[0m \u001b[0mcopy\u001b[0m\u001b[1;33m=\u001b[0m\u001b[0mcopy\u001b[0m\u001b[1;33m)\u001b[0m\u001b[1;33m\u001b[0m\u001b[0m\n\u001b[0m\u001b[0;32m    383\u001b[0m \u001b[1;33m\u001b[0m\u001b[0m\n\u001b[0;32m    384\u001b[0m         \u001b[1;32mif\u001b[0m \u001b[0mensure_2d\u001b[0m\u001b[1;33m:\u001b[0m\u001b[1;33m\u001b[0m\u001b[0m\n",
      "\u001b[1;31mValueError\u001b[0m: could not convert string to float: 'android'"
     ]
    }
   ],
   "source": [
    "from sklearn.preprocessing import OneHotEncoder\n",
    "onehotencoder = OneHotEncoder(categorical_features = ['device_type'])\n",
    "df_0003= onehotencoder.fit_transform(df).toarray()"
   ]
  },
  {
   "cell_type": "code",
   "execution_count": 118,
   "metadata": {},
   "outputs": [
    {
     "data": {
      "text/html": [
       "<div>\n",
       "<style>\n",
       "    .dataframe thead tr:only-child th {\n",
       "        text-align: right;\n",
       "    }\n",
       "\n",
       "    .dataframe thead th {\n",
       "        text-align: left;\n",
       "    }\n",
       "\n",
       "    .dataframe tbody tr th {\n",
       "        vertical-align: top;\n",
       "    }\n",
       "</style>\n",
       "<table border=\"1\" class=\"dataframe\">\n",
       "  <thead>\n",
       "    <tr style=\"text-align: right;\">\n",
       "      <th></th>\n",
       "      <th>app_code</th>\n",
       "      <th>os_version</th>\n",
       "      <th>device_type</th>\n",
       "      <th>product_type</th>\n",
       "    </tr>\n",
       "  </thead>\n",
       "  <tbody>\n",
       "    <tr>\n",
       "      <th>0</th>\n",
       "      <td>396</td>\n",
       "      <td>2</td>\n",
       "      <td>0</td>\n",
       "      <td>4052</td>\n",
       "    </tr>\n",
       "    <tr>\n",
       "      <th>1</th>\n",
       "      <td>396</td>\n",
       "      <td>2</td>\n",
       "      <td>0</td>\n",
       "      <td>4052</td>\n",
       "    </tr>\n",
       "    <tr>\n",
       "      <th>2</th>\n",
       "      <td>396</td>\n",
       "      <td>2</td>\n",
       "      <td>0</td>\n",
       "      <td>4052</td>\n",
       "    </tr>\n",
       "    <tr>\n",
       "      <th>3</th>\n",
       "      <td>194</td>\n",
       "      <td>1</td>\n",
       "      <td>0</td>\n",
       "      <td>4052</td>\n",
       "    </tr>\n",
       "    <tr>\n",
       "      <th>4</th>\n",
       "      <td>194</td>\n",
       "      <td>1</td>\n",
       "      <td>0</td>\n",
       "      <td>4052</td>\n",
       "    </tr>\n",
       "  </tbody>\n",
       "</table>\n",
       "</div>"
      ],
      "text/plain": [
       "   app_code  os_version  device_type  product_type\n",
       "0       396           2            0          4052\n",
       "1       396           2            0          4052\n",
       "2       396           2            0          4052\n",
       "3       194           1            0          4052\n",
       "4       194           1            0          4052"
      ]
     },
     "execution_count": 118,
     "metadata": {},
     "output_type": "execute_result"
    }
   ],
   "source": [
    "df_003.head()"
   ]
  },
  {
   "cell_type": "code",
   "execution_count": 77,
   "metadata": {
    "collapsed": true
   },
   "outputs": [],
   "source": [
    "# Import Logistic Regression\n",
    "from sklearn.linear_model import LogisticRegression\n",
    "\n",
    "# Import RandomForestClassifier and GradientBoostingClassifer\n",
    "from sklearn.ensemble import RandomForestClassifier, GradientBoostingClassifier\n",
    "# Function for splitting training and test set\n",
    "from sklearn.model_selection import train_test_split # Scikit-Learn 0.18+\n",
    "\n",
    "# Function for creating model pipelines\n",
    "from sklearn.pipeline import make_pipeline\n",
    "\n",
    "# For standardization\n",
    "from sklearn.preprocessing import StandardScaler\n",
    "\n",
    "# Helper for cross-validation\n",
    "from sklearn.model_selection import GridSearchCV\n",
    "\n",
    "# Classification metrics (added later)\n",
    "from sklearn.metrics import roc_curve, auc"
   ]
  },
  {
   "cell_type": "code",
   "execution_count": 78,
   "metadata": {
    "collapsed": true
   },
   "outputs": [],
   "source": [
    "\n",
    "\n",
    "# Create separate object for target variable\n",
    "y = df.is_click\n",
    "\n",
    "# Create separate object for input features\n",
    "X = df.drop('is_click', axis=1)\n",
    "\n"
   ]
  },
  {
   "cell_type": "code",
   "execution_count": 79,
   "metadata": {},
   "outputs": [
    {
     "name": "stdout",
     "output_type": "stream",
     "text": [
      "6627623 4418416 6627623 4418416\n"
     ]
    }
   ],
   "source": [
    "# Split X and y into train and test sets\n",
    "X_train, X_test, y_train, y_test = train_test_split(X, y, \n",
    "                                                    test_size=0.4, \n",
    "                                                    random_state=1234,\n",
    "                                                    stratify=df.is_click)\n",
    "\n",
    "# Print number of observations in X_train, X_test, y_train, and y_test\n",
    "print( len(X_train), len(X_test), len(y_train), len(y_test) )"
   ]
  },
  {
   "cell_type": "code",
   "execution_count": 80,
   "metadata": {},
   "outputs": [
    {
     "data": {
      "text/html": [
       "<div>\n",
       "<style>\n",
       "    .dataframe thead tr:only-child th {\n",
       "        text-align: right;\n",
       "    }\n",
       "\n",
       "    .dataframe thead th {\n",
       "        text-align: left;\n",
       "    }\n",
       "\n",
       "    .dataframe tbody tr th {\n",
       "        vertical-align: top;\n",
       "    }\n",
       "</style>\n",
       "<table border=\"1\" class=\"dataframe\">\n",
       "  <thead>\n",
       "    <tr style=\"text-align: right;\">\n",
       "      <th></th>\n",
       "      <th>impression_id</th>\n",
       "      <th>app_code</th>\n",
       "      <th>os_version</th>\n",
       "      <th>is_4G</th>\n",
       "      <th>device_type</th>\n",
       "      <th>item_price</th>\n",
       "      <th>category_1</th>\n",
       "      <th>category_2</th>\n",
       "      <th>category_3</th>\n",
       "      <th>product_type</th>\n",
       "      <th>responsetime</th>\n",
       "      <th>link</th>\n",
       "    </tr>\n",
       "  </thead>\n",
       "  <tbody>\n",
       "    <tr>\n",
       "      <th>9387491</th>\n",
       "      <td>055696c84942aa2fd6dbbf95b4ca65f5</td>\n",
       "      <td>283</td>\n",
       "      <td>latest</td>\n",
       "      <td>0</td>\n",
       "      <td>android</td>\n",
       "      <td>4770</td>\n",
       "      <td>9</td>\n",
       "      <td>9</td>\n",
       "      <td>244</td>\n",
       "      <td>1878</td>\n",
       "      <td>-4</td>\n",
       "      <td>0</td>\n",
       "    </tr>\n",
       "    <tr>\n",
       "      <th>556765</th>\n",
       "      <td>239771729fe22c7c1bdbf136f7304eed</td>\n",
       "      <td>386</td>\n",
       "      <td>old</td>\n",
       "      <td>0</td>\n",
       "      <td>android</td>\n",
       "      <td>377</td>\n",
       "      <td>12</td>\n",
       "      <td>57</td>\n",
       "      <td>44</td>\n",
       "      <td>2888</td>\n",
       "      <td>20</td>\n",
       "      <td>1</td>\n",
       "    </tr>\n",
       "    <tr>\n",
       "      <th>10430593</th>\n",
       "      <td>4e87b5765ac1334abc791eeb7cbf6e14</td>\n",
       "      <td>207</td>\n",
       "      <td>latest</td>\n",
       "      <td>0</td>\n",
       "      <td>android</td>\n",
       "      <td>1555</td>\n",
       "      <td>9</td>\n",
       "      <td>9</td>\n",
       "      <td>90</td>\n",
       "      <td>10558</td>\n",
       "      <td>-7</td>\n",
       "      <td>0</td>\n",
       "    </tr>\n",
       "    <tr>\n",
       "      <th>5909801</th>\n",
       "      <td>a25a06b3ad8b4eb60efe4973b5a7af5d</td>\n",
       "      <td>296</td>\n",
       "      <td>latest</td>\n",
       "      <td>1</td>\n",
       "      <td>android</td>\n",
       "      <td>1571</td>\n",
       "      <td>9</td>\n",
       "      <td>37</td>\n",
       "      <td>162</td>\n",
       "      <td>2159</td>\n",
       "      <td>-9</td>\n",
       "      <td>0</td>\n",
       "    </tr>\n",
       "    <tr>\n",
       "      <th>2247094</th>\n",
       "      <td>f7ba2b933d1b32957bb805707941acad</td>\n",
       "      <td>386</td>\n",
       "      <td>old</td>\n",
       "      <td>0</td>\n",
       "      <td>android</td>\n",
       "      <td>24640</td>\n",
       "      <td>1</td>\n",
       "      <td>36</td>\n",
       "      <td>203</td>\n",
       "      <td>8584</td>\n",
       "      <td>21</td>\n",
       "      <td>1</td>\n",
       "    </tr>\n",
       "  </tbody>\n",
       "</table>\n",
       "</div>"
      ],
      "text/plain": [
       "                             impression_id  app_code os_version  is_4G  \\\n",
       "9387491   055696c84942aa2fd6dbbf95b4ca65f5       283     latest      0   \n",
       "556765    239771729fe22c7c1bdbf136f7304eed       386        old      0   \n",
       "10430593  4e87b5765ac1334abc791eeb7cbf6e14       207     latest      0   \n",
       "5909801   a25a06b3ad8b4eb60efe4973b5a7af5d       296     latest      1   \n",
       "2247094   f7ba2b933d1b32957bb805707941acad       386        old      0   \n",
       "\n",
       "         device_type  item_price  category_1  category_2  category_3  \\\n",
       "9387491      android        4770           9           9         244   \n",
       "556765       android         377          12          57          44   \n",
       "10430593     android        1555           9           9          90   \n",
       "5909801      android        1571           9          37         162   \n",
       "2247094      android       24640           1          36         203   \n",
       "\n",
       "          product_type  responsetime  link  \n",
       "9387491           1878            -4     0  \n",
       "556765            2888            20     1  \n",
       "10430593         10558            -7     0  \n",
       "5909801           2159            -9     0  \n",
       "2247094           8584            21     1  "
      ]
     },
     "execution_count": 80,
     "metadata": {},
     "output_type": "execute_result"
    }
   ],
   "source": [
    "X_train.head()"
   ]
  },
  {
   "cell_type": "code",
   "execution_count": null,
   "metadata": {},
   "outputs": [],
   "source": []
  },
  {
   "cell_type": "code",
   "execution_count": 76,
   "metadata": {},
   "outputs": [
    {
     "data": {
      "text/html": [
       "<div>\n",
       "<style>\n",
       "    .dataframe thead tr:only-child th {\n",
       "        text-align: right;\n",
       "    }\n",
       "\n",
       "    .dataframe thead th {\n",
       "        text-align: left;\n",
       "    }\n",
       "\n",
       "    .dataframe tbody tr th {\n",
       "        vertical-align: top;\n",
       "    }\n",
       "</style>\n",
       "<table border=\"1\" class=\"dataframe\">\n",
       "  <thead>\n",
       "    <tr style=\"text-align: right;\">\n",
       "      <th></th>\n",
       "      <th>impression_id</th>\n",
       "      <th>app_code</th>\n",
       "      <th>os_version</th>\n",
       "      <th>is_4G</th>\n",
       "      <th>is_click</th>\n",
       "      <th>device_type</th>\n",
       "      <th>item_price</th>\n",
       "      <th>category_1</th>\n",
       "      <th>category_2</th>\n",
       "      <th>category_3</th>\n",
       "      <th>product_type</th>\n",
       "      <th>responsetime</th>\n",
       "      <th>link</th>\n",
       "    </tr>\n",
       "  </thead>\n",
       "  <tbody>\n",
       "    <tr>\n",
       "      <th>0</th>\n",
       "      <td>c4ca4238a0b923820dcc509a6f75849b</td>\n",
       "      <td>422</td>\n",
       "      <td>old</td>\n",
       "      <td>0</td>\n",
       "      <td>0</td>\n",
       "      <td>android</td>\n",
       "      <td>2350</td>\n",
       "      <td>11</td>\n",
       "      <td>35</td>\n",
       "      <td>20</td>\n",
       "      <td>5622</td>\n",
       "      <td>26</td>\n",
       "      <td>1</td>\n",
       "    </tr>\n",
       "    <tr>\n",
       "      <th>1</th>\n",
       "      <td>621bf66ddb7c962aa0d22ac97d69b793</td>\n",
       "      <td>422</td>\n",
       "      <td>old</td>\n",
       "      <td>0</td>\n",
       "      <td>0</td>\n",
       "      <td>android</td>\n",
       "      <td>2350</td>\n",
       "      <td>11</td>\n",
       "      <td>35</td>\n",
       "      <td>20</td>\n",
       "      <td>5622</td>\n",
       "      <td>26</td>\n",
       "      <td>1</td>\n",
       "    </tr>\n",
       "    <tr>\n",
       "      <th>2</th>\n",
       "      <td>ab394288aed46588bdc90bf4b541ec0d</td>\n",
       "      <td>422</td>\n",
       "      <td>old</td>\n",
       "      <td>0</td>\n",
       "      <td>0</td>\n",
       "      <td>android</td>\n",
       "      <td>2350</td>\n",
       "      <td>11</td>\n",
       "      <td>35</td>\n",
       "      <td>20</td>\n",
       "      <td>5622</td>\n",
       "      <td>27</td>\n",
       "      <td>1</td>\n",
       "    </tr>\n",
       "    <tr>\n",
       "      <th>3</th>\n",
       "      <td>372d3f309fef061977fb2f7ba36d74d2</td>\n",
       "      <td>207</td>\n",
       "      <td>latest</td>\n",
       "      <td>1</td>\n",
       "      <td>0</td>\n",
       "      <td>android</td>\n",
       "      <td>2350</td>\n",
       "      <td>11</td>\n",
       "      <td>35</td>\n",
       "      <td>20</td>\n",
       "      <td>5622</td>\n",
       "      <td>30</td>\n",
       "      <td>1</td>\n",
       "    </tr>\n",
       "    <tr>\n",
       "      <th>4</th>\n",
       "      <td>372d3f309fef061977fb2f7ba36d74d2</td>\n",
       "      <td>207</td>\n",
       "      <td>latest</td>\n",
       "      <td>1</td>\n",
       "      <td>0</td>\n",
       "      <td>android</td>\n",
       "      <td>2350</td>\n",
       "      <td>11</td>\n",
       "      <td>35</td>\n",
       "      <td>20</td>\n",
       "      <td>5622</td>\n",
       "      <td>-13</td>\n",
       "      <td>0</td>\n",
       "    </tr>\n",
       "  </tbody>\n",
       "</table>\n",
       "</div>"
      ],
      "text/plain": [
       "                      impression_id  app_code os_version  is_4G  is_click  \\\n",
       "0  c4ca4238a0b923820dcc509a6f75849b       422        old      0         0   \n",
       "1  621bf66ddb7c962aa0d22ac97d69b793       422        old      0         0   \n",
       "2  ab394288aed46588bdc90bf4b541ec0d       422        old      0         0   \n",
       "3  372d3f309fef061977fb2f7ba36d74d2       207     latest      1         0   \n",
       "4  372d3f309fef061977fb2f7ba36d74d2       207     latest      1         0   \n",
       "\n",
       "  device_type  item_price  category_1  category_2  category_3  product_type  \\\n",
       "0     android        2350          11          35          20          5622   \n",
       "1     android        2350          11          35          20          5622   \n",
       "2     android        2350          11          35          20          5622   \n",
       "3     android        2350          11          35          20          5622   \n",
       "4     android        2350          11          35          20          5622   \n",
       "\n",
       "   responsetime  link  \n",
       "0            26     1  \n",
       "1            26     1  \n",
       "2            27     1  \n",
       "3            30     1  \n",
       "4           -13     0  "
      ]
     },
     "execution_count": 76,
     "metadata": {},
     "output_type": "execute_result"
    }
   ],
   "source": [
    "df.head()"
   ]
  },
  {
   "cell_type": "code",
   "execution_count": null,
   "metadata": {
    "collapsed": true
   },
   "outputs": [],
   "source": [
    "train_x_onehotCoding = hstack((train_gene_var_onehotCoding, train_text_feature_onehotCoding)).tocsr()"
   ]
  },
  {
   "cell_type": "code",
   "execution_count": null,
   "metadata": {
    "collapsed": true
   },
   "outputs": [],
   "source": []
  },
  {
   "cell_type": "code",
   "execution_count": null,
   "metadata": {
    "collapsed": true
   },
   "outputs": [],
   "source": []
  },
  {
   "cell_type": "code",
   "execution_count": null,
   "metadata": {
    "collapsed": true
   },
   "outputs": [],
   "source": []
  },
  {
   "cell_type": "code",
   "execution_count": null,
   "metadata": {
    "collapsed": true
   },
   "outputs": [],
   "source": []
  },
  {
   "cell_type": "code",
   "execution_count": null,
   "metadata": {
    "collapsed": true
   },
   "outputs": [],
   "source": []
  }
 ],
 "metadata": {
  "kernelspec": {
   "display_name": "Python 3",
   "language": "python",
   "name": "python3"
  },
  "language_info": {
   "codemirror_mode": {
    "name": "ipython",
    "version": 3
   },
   "file_extension": ".py",
   "mimetype": "text/x-python",
   "name": "python",
   "nbconvert_exporter": "python",
   "pygments_lexer": "ipython3",
   "version": "3.6.1"
  }
 },
 "nbformat": 4,
 "nbformat_minor": 2
}
